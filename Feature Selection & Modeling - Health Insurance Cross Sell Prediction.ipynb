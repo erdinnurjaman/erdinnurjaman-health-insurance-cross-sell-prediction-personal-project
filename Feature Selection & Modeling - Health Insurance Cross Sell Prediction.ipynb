{
 "cells": [
  {
   "cell_type": "markdown",
   "metadata": {
    "id": "PJz1N2hpddiG"
   },
   "source": [
    "# Import Libraries"
   ]
  },
  {
   "cell_type": "code",
   "execution_count": 13,
   "metadata": {
    "id": "R0d8-03-cuFE"
   },
   "outputs": [],
   "source": [
    "import numpy as np\n",
    "import pandas as pd\n",
    "import matplotlib.pyplot as plt\n",
    "import seaborn as sns\n",
    "import warnings\n",
    "warnings.filterwarnings(\"ignore\")\n",
    "from sklearn.model_selection import train_test_split\n",
    "from sklearn.feature_selection import mutual_info_classif, SelectKBest\n",
    "from sklearn.preprocessing import MinMaxScaler\n",
    "from sklearn.linear_model import LogisticRegression\n",
    "from sklearn.ensemble import RandomForestClassifier\n",
    "from sklearn.tree import DecisionTreeClassifier\n",
    "from sklearn.naive_bayes import GaussianNB\n",
    "from xgboost import XGBClassifier\n",
    "from sklearn.metrics import accuracy_score, f1_score, roc_auc_score, classification_report,roc_curve, auc, recall_score"
   ]
  },
  {
   "cell_type": "markdown",
   "metadata": {
    "id": "L-aiwRvGul7R"
   },
   "source": [
    "# Load Dataset"
   ]
  },
  {
   "cell_type": "code",
   "execution_count": 2,
   "metadata": {
    "id": "uMUfl_K2kQ1z"
   },
   "outputs": [],
   "source": [
    "# Load the dataset\n",
    "df = pd.read_csv('raw_data.csv')"
   ]
  },
  {
   "cell_type": "markdown",
   "metadata": {
    "id": "D2i2YK4W9I-P",
    "tags": []
   },
   "source": [
    "# Descriptive Statistics"
   ]
  },
  {
   "cell_type": "code",
   "execution_count": 3,
   "metadata": {
    "colab": {
     "base_uri": "https://localhost:8080/"
    },
    "executionInfo": {
     "elapsed": 348,
     "status": "ok",
     "timestamp": 1648268057905,
     "user": {
      "displayName": "Pararawendy Indarjo",
      "photoUrl": "https://lh3.googleusercontent.com/a-/AOh14GioQ0c_uukSFDoTcJVdqexZctAqHkGZbwVqv9WxOw=s64",
      "userId": "09035664507663317723"
     },
     "user_tz": -420
    },
    "id": "WpHm2z-0q1l8",
    "outputId": "dd852d58-2008-4d54-d983-b387024a3597"
   },
   "outputs": [
    {
     "name": "stdout",
     "output_type": "stream",
     "text": [
      "<class 'pandas.core.frame.DataFrame'>\n",
      "RangeIndex: 381109 entries, 0 to 381108\n",
      "Data columns (total 12 columns):\n",
      " #   Column                Non-Null Count   Dtype  \n",
      "---  ------                --------------   -----  \n",
      " 0   id                    381109 non-null  int64  \n",
      " 1   Gender                381109 non-null  object \n",
      " 2   Age                   381109 non-null  int64  \n",
      " 3   Driving_License       381109 non-null  int64  \n",
      " 4   Region_Code           381109 non-null  float64\n",
      " 5   Previously_Insured    381109 non-null  int64  \n",
      " 6   Vehicle_Age           381109 non-null  object \n",
      " 7   Vehicle_Damage        381109 non-null  object \n",
      " 8   Annual_Premium        381109 non-null  float64\n",
      " 9   Policy_Sales_Channel  381109 non-null  float64\n",
      " 10  Vintage               381109 non-null  int64  \n",
      " 11  Response              381109 non-null  int64  \n",
      "dtypes: float64(3), int64(6), object(3)\n",
      "memory usage: 34.9+ MB\n"
     ]
    }
   ],
   "source": [
    "# General information about the dataset\n",
    "df.info()"
   ]
  },
  {
   "cell_type": "markdown",
   "metadata": {
    "id": "AKy3JX7au0Zp"
   },
   "source": [
    "Pengamatan\\:\n",
    "1. Data terdiri dari 381109 baris\n",
    "2. Tidak terdapat null values atau nilai kosong di setiap kolom\n",
    "3. Sepertinya tidak ada issue yang mencolok pada tipe data untuk setiap kolom (sudah sesuai)"
   ]
  },
  {
   "cell_type": "markdown",
   "metadata": {},
   "source": [
    "### Duplicated data"
   ]
  },
  {
   "cell_type": "code",
   "execution_count": 4,
   "metadata": {},
   "outputs": [
    {
     "data": {
      "text/plain": [
       "0"
      ]
     },
     "execution_count": 4,
     "metadata": {},
     "output_type": "execute_result"
    }
   ],
   "source": [
    "# See the duplicated record in dataset\n",
    "df.duplicated().sum()"
   ]
  },
  {
   "cell_type": "markdown",
   "metadata": {},
   "source": [
    "Tidak terdapat data yang duplikat"
   ]
  },
  {
   "cell_type": "markdown",
   "metadata": {
    "id": "pn4NevFcvaaR"
   },
   "source": [
    "## Cuplikan Data"
   ]
  },
  {
   "cell_type": "code",
   "execution_count": 5,
   "metadata": {
    "colab": {
     "base_uri": "https://localhost:8080/",
     "height": 250
    },
    "executionInfo": {
     "elapsed": 369,
     "status": "ok",
     "timestamp": 1648268227172,
     "user": {
      "displayName": "Pararawendy Indarjo",
      "photoUrl": "https://lh3.googleusercontent.com/a-/AOh14GioQ0c_uukSFDoTcJVdqexZctAqHkGZbwVqv9WxOw=s64",
      "userId": "09035664507663317723"
     },
     "user_tz": -420
    },
    "id": "tv2j2hY4vfBD",
    "outputId": "5005780b-87f4-4a65-859b-da8d1aee7bef"
   },
   "outputs": [
    {
     "data": {
      "text/html": [
       "<div>\n",
       "<style scoped>\n",
       "    .dataframe tbody tr th:only-of-type {\n",
       "        vertical-align: middle;\n",
       "    }\n",
       "\n",
       "    .dataframe tbody tr th {\n",
       "        vertical-align: top;\n",
       "    }\n",
       "\n",
       "    .dataframe thead th {\n",
       "        text-align: right;\n",
       "    }\n",
       "</style>\n",
       "<table border=\"1\" class=\"dataframe\">\n",
       "  <thead>\n",
       "    <tr style=\"text-align: right;\">\n",
       "      <th></th>\n",
       "      <th>id</th>\n",
       "      <th>Gender</th>\n",
       "      <th>Age</th>\n",
       "      <th>Driving_License</th>\n",
       "      <th>Region_Code</th>\n",
       "      <th>Previously_Insured</th>\n",
       "      <th>Vehicle_Age</th>\n",
       "      <th>Vehicle_Damage</th>\n",
       "      <th>Annual_Premium</th>\n",
       "      <th>Policy_Sales_Channel</th>\n",
       "      <th>Vintage</th>\n",
       "      <th>Response</th>\n",
       "    </tr>\n",
       "  </thead>\n",
       "  <tbody>\n",
       "    <tr>\n",
       "      <th>110108</th>\n",
       "      <td>110109</td>\n",
       "      <td>Female</td>\n",
       "      <td>33</td>\n",
       "      <td>1</td>\n",
       "      <td>28.0</td>\n",
       "      <td>1</td>\n",
       "      <td>1-2 Year</td>\n",
       "      <td>No</td>\n",
       "      <td>26292.0</td>\n",
       "      <td>26.0</td>\n",
       "      <td>43</td>\n",
       "      <td>0</td>\n",
       "    </tr>\n",
       "    <tr>\n",
       "      <th>45312</th>\n",
       "      <td>45313</td>\n",
       "      <td>Female</td>\n",
       "      <td>30</td>\n",
       "      <td>1</td>\n",
       "      <td>3.0</td>\n",
       "      <td>1</td>\n",
       "      <td>&lt; 1 Year</td>\n",
       "      <td>No</td>\n",
       "      <td>33511.0</td>\n",
       "      <td>152.0</td>\n",
       "      <td>157</td>\n",
       "      <td>0</td>\n",
       "    </tr>\n",
       "    <tr>\n",
       "      <th>162829</th>\n",
       "      <td>162830</td>\n",
       "      <td>Male</td>\n",
       "      <td>45</td>\n",
       "      <td>1</td>\n",
       "      <td>46.0</td>\n",
       "      <td>0</td>\n",
       "      <td>1-2 Year</td>\n",
       "      <td>Yes</td>\n",
       "      <td>19718.0</td>\n",
       "      <td>157.0</td>\n",
       "      <td>181</td>\n",
       "      <td>1</td>\n",
       "    </tr>\n",
       "    <tr>\n",
       "      <th>233449</th>\n",
       "      <td>233450</td>\n",
       "      <td>Male</td>\n",
       "      <td>30</td>\n",
       "      <td>1</td>\n",
       "      <td>28.0</td>\n",
       "      <td>0</td>\n",
       "      <td>&lt; 1 Year</td>\n",
       "      <td>Yes</td>\n",
       "      <td>70214.0</td>\n",
       "      <td>124.0</td>\n",
       "      <td>81</td>\n",
       "      <td>0</td>\n",
       "    </tr>\n",
       "    <tr>\n",
       "      <th>261</th>\n",
       "      <td>262</td>\n",
       "      <td>Female</td>\n",
       "      <td>22</td>\n",
       "      <td>1</td>\n",
       "      <td>12.0</td>\n",
       "      <td>1</td>\n",
       "      <td>&lt; 1 Year</td>\n",
       "      <td>No</td>\n",
       "      <td>29823.0</td>\n",
       "      <td>152.0</td>\n",
       "      <td>128</td>\n",
       "      <td>0</td>\n",
       "    </tr>\n",
       "  </tbody>\n",
       "</table>\n",
       "</div>"
      ],
      "text/plain": [
       "            id  Gender  Age  Driving_License  Region_Code  Previously_Insured  \\\n",
       "110108  110109  Female   33                1         28.0                   1   \n",
       "45312    45313  Female   30                1          3.0                   1   \n",
       "162829  162830    Male   45                1         46.0                   0   \n",
       "233449  233450    Male   30                1         28.0                   0   \n",
       "261        262  Female   22                1         12.0                   1   \n",
       "\n",
       "       Vehicle_Age Vehicle_Damage  Annual_Premium  Policy_Sales_Channel  \\\n",
       "110108    1-2 Year             No         26292.0                  26.0   \n",
       "45312     < 1 Year             No         33511.0                 152.0   \n",
       "162829    1-2 Year            Yes         19718.0                 157.0   \n",
       "233449    < 1 Year            Yes         70214.0                 124.0   \n",
       "261       < 1 Year             No         29823.0                 152.0   \n",
       "\n",
       "        Vintage  Response  \n",
       "110108       43         0  \n",
       "45312       157         0  \n",
       "162829      181         1  \n",
       "233449       81         0  \n",
       "261         128         0  "
      ]
     },
     "execution_count": 5,
     "metadata": {},
     "output_type": "execute_result"
    }
   ],
   "source": [
    "# 5 random sample of the dataset\n",
    "df.sample(5)"
   ]
  },
  {
   "cell_type": "markdown",
   "metadata": {
    "id": "wnven3mq949W"
   },
   "source": [
    "Pengamatan:\n",
    "* Sepertinya tidak ada anomali pada setiap entri kolom sudah sesuai"
   ]
  },
  {
   "cell_type": "markdown",
   "metadata": {
    "id": "fLCLdEC3vqXq"
   },
   "source": [
    "## Statistical Summary"
   ]
  },
  {
   "cell_type": "code",
   "execution_count": 6,
   "metadata": {
    "id": "qqtPIt1gpf9q"
   },
   "outputs": [],
   "source": [
    "# Grouping columns with spesific datatype\n",
    "nums = [feature for feature in df.columns if df[feature].dtypes != 'O']\n",
    "cats = [feature for feature in df.columns if df[feature].dtypes == 'O']"
   ]
  },
  {
   "cell_type": "code",
   "execution_count": 7,
   "metadata": {
    "colab": {
     "base_uri": "https://localhost:8080/",
     "height": 300
    },
    "executionInfo": {
     "elapsed": 417,
     "status": "ok",
     "timestamp": 1648268327970,
     "user": {
      "displayName": "Pararawendy Indarjo",
      "photoUrl": "https://lh3.googleusercontent.com/a-/AOh14GioQ0c_uukSFDoTcJVdqexZctAqHkGZbwVqv9WxOw=s64",
      "userId": "09035664507663317723"
     },
     "user_tz": -420
    },
    "id": "Sl3azjfkp6UY",
    "outputId": "2c00f79d-900b-4d41-9e51-6b279a3a745f"
   },
   "outputs": [
    {
     "data": {
      "text/html": [
       "<div>\n",
       "<style scoped>\n",
       "    .dataframe tbody tr th:only-of-type {\n",
       "        vertical-align: middle;\n",
       "    }\n",
       "\n",
       "    .dataframe tbody tr th {\n",
       "        vertical-align: top;\n",
       "    }\n",
       "\n",
       "    .dataframe thead th {\n",
       "        text-align: right;\n",
       "    }\n",
       "</style>\n",
       "<table border=\"1\" class=\"dataframe\">\n",
       "  <thead>\n",
       "    <tr style=\"text-align: right;\">\n",
       "      <th></th>\n",
       "      <th>id</th>\n",
       "      <th>Age</th>\n",
       "      <th>Driving_License</th>\n",
       "      <th>Region_Code</th>\n",
       "      <th>Previously_Insured</th>\n",
       "      <th>Annual_Premium</th>\n",
       "      <th>Policy_Sales_Channel</th>\n",
       "      <th>Vintage</th>\n",
       "      <th>Response</th>\n",
       "    </tr>\n",
       "  </thead>\n",
       "  <tbody>\n",
       "    <tr>\n",
       "      <th>count</th>\n",
       "      <td>381109.000000</td>\n",
       "      <td>381109.000000</td>\n",
       "      <td>381109.000000</td>\n",
       "      <td>381109.000000</td>\n",
       "      <td>381109.000000</td>\n",
       "      <td>381109.000000</td>\n",
       "      <td>381109.000000</td>\n",
       "      <td>381109.000000</td>\n",
       "      <td>381109.000000</td>\n",
       "    </tr>\n",
       "    <tr>\n",
       "      <th>mean</th>\n",
       "      <td>190555.000000</td>\n",
       "      <td>38.822584</td>\n",
       "      <td>0.997869</td>\n",
       "      <td>26.388807</td>\n",
       "      <td>0.458210</td>\n",
       "      <td>30564.389581</td>\n",
       "      <td>112.034295</td>\n",
       "      <td>154.347397</td>\n",
       "      <td>0.122563</td>\n",
       "    </tr>\n",
       "    <tr>\n",
       "      <th>std</th>\n",
       "      <td>110016.836208</td>\n",
       "      <td>15.511611</td>\n",
       "      <td>0.046110</td>\n",
       "      <td>13.229888</td>\n",
       "      <td>0.498251</td>\n",
       "      <td>17213.155057</td>\n",
       "      <td>54.203995</td>\n",
       "      <td>83.671304</td>\n",
       "      <td>0.327936</td>\n",
       "    </tr>\n",
       "    <tr>\n",
       "      <th>min</th>\n",
       "      <td>1.000000</td>\n",
       "      <td>20.000000</td>\n",
       "      <td>0.000000</td>\n",
       "      <td>0.000000</td>\n",
       "      <td>0.000000</td>\n",
       "      <td>2630.000000</td>\n",
       "      <td>1.000000</td>\n",
       "      <td>10.000000</td>\n",
       "      <td>0.000000</td>\n",
       "    </tr>\n",
       "    <tr>\n",
       "      <th>25%</th>\n",
       "      <td>95278.000000</td>\n",
       "      <td>25.000000</td>\n",
       "      <td>1.000000</td>\n",
       "      <td>15.000000</td>\n",
       "      <td>0.000000</td>\n",
       "      <td>24405.000000</td>\n",
       "      <td>29.000000</td>\n",
       "      <td>82.000000</td>\n",
       "      <td>0.000000</td>\n",
       "    </tr>\n",
       "    <tr>\n",
       "      <th>50%</th>\n",
       "      <td>190555.000000</td>\n",
       "      <td>36.000000</td>\n",
       "      <td>1.000000</td>\n",
       "      <td>28.000000</td>\n",
       "      <td>0.000000</td>\n",
       "      <td>31669.000000</td>\n",
       "      <td>133.000000</td>\n",
       "      <td>154.000000</td>\n",
       "      <td>0.000000</td>\n",
       "    </tr>\n",
       "    <tr>\n",
       "      <th>75%</th>\n",
       "      <td>285832.000000</td>\n",
       "      <td>49.000000</td>\n",
       "      <td>1.000000</td>\n",
       "      <td>35.000000</td>\n",
       "      <td>1.000000</td>\n",
       "      <td>39400.000000</td>\n",
       "      <td>152.000000</td>\n",
       "      <td>227.000000</td>\n",
       "      <td>0.000000</td>\n",
       "    </tr>\n",
       "    <tr>\n",
       "      <th>max</th>\n",
       "      <td>381109.000000</td>\n",
       "      <td>85.000000</td>\n",
       "      <td>1.000000</td>\n",
       "      <td>52.000000</td>\n",
       "      <td>1.000000</td>\n",
       "      <td>540165.000000</td>\n",
       "      <td>163.000000</td>\n",
       "      <td>299.000000</td>\n",
       "      <td>1.000000</td>\n",
       "    </tr>\n",
       "  </tbody>\n",
       "</table>\n",
       "</div>"
      ],
      "text/plain": [
       "                  id            Age  Driving_License    Region_Code  \\\n",
       "count  381109.000000  381109.000000    381109.000000  381109.000000   \n",
       "mean   190555.000000      38.822584         0.997869      26.388807   \n",
       "std    110016.836208      15.511611         0.046110      13.229888   \n",
       "min         1.000000      20.000000         0.000000       0.000000   \n",
       "25%     95278.000000      25.000000         1.000000      15.000000   \n",
       "50%    190555.000000      36.000000         1.000000      28.000000   \n",
       "75%    285832.000000      49.000000         1.000000      35.000000   \n",
       "max    381109.000000      85.000000         1.000000      52.000000   \n",
       "\n",
       "       Previously_Insured  Annual_Premium  Policy_Sales_Channel  \\\n",
       "count       381109.000000   381109.000000         381109.000000   \n",
       "mean             0.458210    30564.389581            112.034295   \n",
       "std              0.498251    17213.155057             54.203995   \n",
       "min              0.000000     2630.000000              1.000000   \n",
       "25%              0.000000    24405.000000             29.000000   \n",
       "50%              0.000000    31669.000000            133.000000   \n",
       "75%              1.000000    39400.000000            152.000000   \n",
       "max              1.000000   540165.000000            163.000000   \n",
       "\n",
       "             Vintage       Response  \n",
       "count  381109.000000  381109.000000  \n",
       "mean      154.347397       0.122563  \n",
       "std        83.671304       0.327936  \n",
       "min        10.000000       0.000000  \n",
       "25%        82.000000       0.000000  \n",
       "50%       154.000000       0.000000  \n",
       "75%       227.000000       0.000000  \n",
       "max       299.000000       1.000000  "
      ]
     },
     "execution_count": 7,
     "metadata": {},
     "output_type": "execute_result"
    }
   ],
   "source": [
    "# Statistical summary of Numeric feature\n",
    "df[nums].describe()"
   ]
  },
  {
   "cell_type": "markdown",
   "metadata": {
    "id": "I7Z3TDQar3Wi"
   },
   "source": [
    "Beberapa pengamatan:\n",
    "1. Pada kolom `Age`, nilai mean dan mediannya tidak terlalu jauh mengindikasikan kolom tersebut memiliki distribusi normal\n",
    "2. Begitu pula pada kolom `Annual Premium`, nilai mean dan mediannya tidak terlalu jauh, namun pada nilai `max` nya sangat jauh sekali dibanding nilai pada data 75%, nampaknya terdapat `outliers` yang cukup jauh. Akan kita lakukan handling outliers nanti pada tahap Data Processing.\n",
    "3. Kolom `Driving License`dan `Previously Insured` adalah kolom dengan nilai binary (1 dan 0)\n",
    "4. Untuk kolom `Region Code` meskipun sebuah kolom numerik tetapi kolom tersebut memuat informasi mengenai kode daerah pelanggan. Begitu pula dengan kolom `Policy Sales Channel` adalah sebuah kode unik mengenai cara perusahaan menjangkau / menghubungi pelanggan."
   ]
  },
  {
   "cell_type": "code",
   "execution_count": 8,
   "metadata": {
    "colab": {
     "base_uri": "https://localhost:8080/",
     "height": 175
    },
    "executionInfo": {
     "elapsed": 3282,
     "status": "ok",
     "timestamp": 1648268890720,
     "user": {
      "displayName": "Pararawendy Indarjo",
      "photoUrl": "https://lh3.googleusercontent.com/a-/AOh14GioQ0c_uukSFDoTcJVdqexZctAqHkGZbwVqv9WxOw=s64",
      "userId": "09035664507663317723"
     },
     "user_tz": -420
    },
    "id": "yjfRb6t8rRVB",
    "outputId": "d976e216-3fc0-4f22-c209-8c4cd087811c"
   },
   "outputs": [
    {
     "data": {
      "text/html": [
       "<div>\n",
       "<style scoped>\n",
       "    .dataframe tbody tr th:only-of-type {\n",
       "        vertical-align: middle;\n",
       "    }\n",
       "\n",
       "    .dataframe tbody tr th {\n",
       "        vertical-align: top;\n",
       "    }\n",
       "\n",
       "    .dataframe thead th {\n",
       "        text-align: right;\n",
       "    }\n",
       "</style>\n",
       "<table border=\"1\" class=\"dataframe\">\n",
       "  <thead>\n",
       "    <tr style=\"text-align: right;\">\n",
       "      <th></th>\n",
       "      <th>Gender</th>\n",
       "      <th>Vehicle_Age</th>\n",
       "      <th>Vehicle_Damage</th>\n",
       "    </tr>\n",
       "  </thead>\n",
       "  <tbody>\n",
       "    <tr>\n",
       "      <th>count</th>\n",
       "      <td>381109</td>\n",
       "      <td>381109</td>\n",
       "      <td>381109</td>\n",
       "    </tr>\n",
       "    <tr>\n",
       "      <th>unique</th>\n",
       "      <td>2</td>\n",
       "      <td>3</td>\n",
       "      <td>2</td>\n",
       "    </tr>\n",
       "    <tr>\n",
       "      <th>top</th>\n",
       "      <td>Male</td>\n",
       "      <td>1-2 Year</td>\n",
       "      <td>Yes</td>\n",
       "    </tr>\n",
       "    <tr>\n",
       "      <th>freq</th>\n",
       "      <td>206089</td>\n",
       "      <td>200316</td>\n",
       "      <td>192413</td>\n",
       "    </tr>\n",
       "  </tbody>\n",
       "</table>\n",
       "</div>"
      ],
      "text/plain": [
       "        Gender Vehicle_Age Vehicle_Damage\n",
       "count   381109      381109         381109\n",
       "unique       2           3              2\n",
       "top       Male    1-2 Year            Yes\n",
       "freq    206089      200316         192413"
      ]
     },
     "execution_count": 8,
     "metadata": {},
     "output_type": "execute_result"
    }
   ],
   "source": [
    "# Statistical summary of Categorical feature\n",
    "df[cats].describe()"
   ]
  },
  {
   "cell_type": "markdown",
   "metadata": {
    "id": "K7PyoTmotW5K"
   },
   "source": [
    "Beberapa pengamatan:\n",
    "1. Data di dominasi (proporsi lebih dari 50% dari jumlah baris data) oleh jenis kelamin laki-laki (`Gender`) dan 1-2 Year (`Vehicle Age`)\n",
    "2. Kolom `Vehicle Damage` memiliki proporsi yang relatif sama diantara 2 nilai nya."
   ]
  },
  {
   "cell_type": "markdown",
   "metadata": {
    "id": "lPUOfzU2-Xjw"
   },
   "source": [
    "## Value Counting\n",
    "Kita dapat memastikan pengamatan mengenai kolom-kolom categorical di atas dengan value counting"
   ]
  },
  {
   "cell_type": "code",
   "execution_count": 9,
   "metadata": {
    "colab": {
     "base_uri": "https://localhost:8080/"
    },
    "executionInfo": {
     "elapsed": 345,
     "status": "ok",
     "timestamp": 1648268960357,
     "user": {
      "displayName": "Pararawendy Indarjo",
      "photoUrl": "https://lh3.googleusercontent.com/a-/AOh14GioQ0c_uukSFDoTcJVdqexZctAqHkGZbwVqv9WxOw=s64",
      "userId": "09035664507663317723"
     },
     "user_tz": -420
    },
    "id": "HLdio-Vk-lgY",
    "outputId": "f9b75b79-dd90-407e-e501-b1ab6a45d058"
   },
   "outputs": [
    {
     "name": "stdout",
     "output_type": "stream",
     "text": [
      "Value count kolom Gender:\n",
      "Male      206089\n",
      "Female    175020\n",
      "Name: Gender, dtype: int64\n",
      "\n",
      "Value count kolom Vehicle_Age:\n",
      "1-2 Year     200316\n",
      "< 1 Year     164786\n",
      "> 2 Years     16007\n",
      "Name: Vehicle_Age, dtype: int64\n",
      "\n",
      "Value count kolom Vehicle_Damage:\n",
      "Yes    192413\n",
      "No     188696\n",
      "Name: Vehicle_Damage, dtype: int64\n",
      "\n"
     ]
    }
   ],
   "source": [
    "# Count every value from Categorical feature\n",
    "for col in cats:\n",
    "    print(f'''Value count kolom {col}:''')\n",
    "    print(df[col].value_counts())\n",
    "    print()"
   ]
  },
  {
   "cell_type": "markdown",
   "metadata": {
    "id": "Juio7NVFWcnd"
   },
   "source": [
    "## Univariate Analysis\n",
    "Setelah melakukan analisis sederhana tentang statistik deskriptif, sekarang kita fokus pada satu-persatu kolom dengan *Univariate Analysis*"
   ]
  },
  {
   "cell_type": "markdown",
   "metadata": {},
   "source": [
    "### Distribusi Target feature"
   ]
  },
  {
   "cell_type": "code",
   "execution_count": 10,
   "metadata": {},
   "outputs": [
    {
     "data": {
      "image/png": "[encoded data removed]",
      "text/plain": [
       "<Figure size 1080x504 with 1 Axes>"
      ]
     },
     "metadata": {
      "needs_background": "light"
     },
     "output_type": "display_data"
    }
   ],
   "source": [
    "plt.figure(figsize=(15,7))\n",
    "sns.countplot(x='Response', data=df, palette=sns.color_palette('Set2'))\n",
    "plt.grid(axis='y', alpha=0.25)\n",
    "plt.title('Distribution of Response', fontsize=20, weight='bold')\n",
    "plt.savefig('images/distribution_of_response.png')\n",
    "plt.show()"
   ]
  },
  {
   "cell_type": "markdown",
   "metadata": {},
   "source": [
    "Pada kolom `Response` atau kolom yang berperan sebagai kolom target, berisi angka 0 dan 1. `Angka 0` menandakan pelanggan tersebut tidak tertarik dan `angka 1` menandakan pelanggan tertarik pada penawaran asuransi kendaraan yang perusahaan tawarkan. Terlihat perbandingannya cukup timpang, lebih banyak orang yang tidak tertarik. Hal ini bisa disebut juga sebagai `Imbalance Dataset`. Hal seperti ini bisa mempengaruhi performa pada saat modeling. Bila diperlukan, kita bisa melakukan teknik oversampling atau under sampling pada saat modeling nanti agar bisa mendapatkan performa model yang optimal."
   ]
  },
  {
   "cell_type": "markdown",
   "metadata": {
    "id": "OQA6nvPjWcnd"
   },
   "source": [
    "### Box Plots"
   ]
  },
  {
   "cell_type": "code",
   "execution_count": 11,
   "metadata": {
    "ExecuteTime": {
     "end_time": "2020-08-29T04:42:08.001602Z",
     "start_time": "2020-08-29T04:42:06.531448Z"
    },
    "colab": {
     "base_uri": "https://localhost:8080/",
     "height": 297
    },
    "executionInfo": {
     "elapsed": 1854,
     "status": "ok",
     "timestamp": 1648269205737,
     "user": {
      "displayName": "Pararawendy Indarjo",
      "photoUrl": "https://lh3.googleusercontent.com/a-/AOh14GioQ0c_uukSFDoTcJVdqexZctAqHkGZbwVqv9WxOw=s64",
      "userId": "09035664507663317723"
     },
     "user_tz": -420
    },
    "id": "AHFiQSI4Wcnd",
    "outputId": "dec7bd6b-5c5d-48bb-ba14-5a078a68b4c5",
    "scrolled": true
   },
   "outputs": [
    {
     "data": {
      "image/png": "[encoded data removed]",
      "text/plain": [
       "<Figure size 1080x432 with 9 Axes>"
      ]
     },
     "metadata": {
      "needs_background": "light"
     },
     "output_type": "display_data"
    }
   ],
   "source": [
    "features = nums\n",
    "plt.figure(figsize=(15,6))\n",
    "for i in range(0, len(features)):\n",
    "    plt.subplot(2, len(features), i+1)\n",
    "    sns.boxplot(y=df[features[i]], palette=sns.color_palette('Set2'))\n",
    "    plt.tight_layout()\n",
    "    plt.savefig('images/box_plot.png')"
   ]
  },
  {
   "cell_type": "markdown",
   "metadata": {
    "id": "eM7NVf00Wcnd"
   },
   "source": [
    "Untuk boxplot, hal paling penting yang harus kita perhatikan adalah keberadaan outlier.\n",
    "* Outlier terlihat utamanya pada kolom `Annual Premium`\n",
    "* Dari boxplotnya juga tampak mana kolom yang distribusinya terlihat agak *skewed*: `Age` dan `Policy Sales Channel`"
   ]
  },
  {
   "cell_type": "markdown",
   "metadata": {
    "ExecuteTime": {
     "end_time": "2020-08-25T01:31:54.648374Z",
     "start_time": "2020-08-25T01:31:54.645375Z"
    },
    "id": "wIJ4xk-sWcnd"
   },
   "source": [
    "### Dist Plots"
   ]
  },
  {
   "cell_type": "code",
   "execution_count": 14,
   "metadata": {
    "ExecuteTime": {
     "end_time": "2020-08-29T04:46:20.960234Z",
     "start_time": "2020-08-29T04:46:18.699139Z"
    },
    "colab": {
     "base_uri": "https://localhost:8080/",
     "height": 369
    },
    "executionInfo": {
     "elapsed": 2847,
     "status": "ok",
     "timestamp": 1648269481317,
     "user": {
      "displayName": "Pararawendy Indarjo",
      "photoUrl": "https://lh3.googleusercontent.com/a-/AOh14GioQ0c_uukSFDoTcJVdqexZctAqHkGZbwVqv9WxOw=s64",
      "userId": "09035664507663317723"
     },
     "user_tz": -420
    },
    "id": "vTq7jD88Wcnd",
    "outputId": "bb36fd70-ab77-4951-e61b-e3a32ab4a982"
   },
   "outputs": [
    {
     "data": {
      "image/png": "[encoded data removed]",
      "text/plain": [
       "<Figure size 864x360 with 9 Axes>"
      ]
     },
     "metadata": {
      "needs_background": "light"
     },
     "output_type": "display_data"
    }
   ],
   "source": [
    "features = nums\n",
    "plt.figure(figsize=(12, 5))\n",
    "for i in range(0, len(nums)):\n",
    "    plt.subplot(3, len(nums)-5, i+1)\n",
    "    sns.kdeplot(x=df[features[i]], palette=sns.color_palette('Set2'))\n",
    "    plt.xlabel(features[i])\n",
    "    plt.tight_layout()\n",
    "    plt.savefig('images/dist_plot.png')"
   ]
  },
  {
   "cell_type": "markdown",
   "metadata": {
    "id": "YNv0HtEZWcnd"
   },
   "source": [
    "Untuk distribution plot, hal utama yang perlu diperhatikan adalah bentuk distribusi:\n",
    "* Kolom `Age` ternyata cenderung sedikit mengarah ke positively skewed.\n",
    "* Seperti dugaan kita ketika melihat boxplot di atas, kolom `Annual Premium` lumayan *skewed*, hal tersebut dikarenakan keberadaan nilai outliers atau nilai yang terlalu jauh dari semestinya.\n",
    "* Kolom `Vintage` memiliki distribusi normal.\n",
    "* Untuk kolom `Region` dan `Policy Sales Channel` tidak perlu terlalu diperhatikan, karena nilai numerik dalam kolom tersebut hanya sebagai kode unik atau sebuah label.\n",
    "* Kolom `Driving License` dan `Previously Insured` sejatinya adalah biner, sehingga tidak perlu terlalu diperhatikan bentuk distribusinya"
   ]
  },
  {
   "cell_type": "markdown",
   "metadata": {
    "id": "CyWdEfDKWcnd"
   },
   "source": [
    "### Count Plot (categorical)"
   ]
  },
  {
   "cell_type": "code",
   "execution_count": 15,
   "metadata": {
    "ExecuteTime": {
     "end_time": "2020-08-29T00:32:14.834179Z",
     "start_time": "2020-08-29T00:32:13.916291Z"
    },
    "colab": {
     "base_uri": "https://localhost:8080/",
     "height": 297
    },
    "executionInfo": {
     "elapsed": 2147,
     "status": "ok",
     "timestamp": 1648269705149,
     "user": {
      "displayName": "Pararawendy Indarjo",
      "photoUrl": "https://lh3.googleusercontent.com/a-/AOh14GioQ0c_uukSFDoTcJVdqexZctAqHkGZbwVqv9WxOw=s64",
      "userId": "09035664507663317723"
     },
     "user_tz": -420
    },
    "id": "SACYYuBKWcnd",
    "outputId": "f9072710-c6ab-4f5f-d17f-065e7a39e07a",
    "scrolled": true
   },
   "outputs": [
    {
     "data": {
      "image/png": "[encoded data removed]",
      "text/plain": [
       "<Figure size 1080x576 with 3 Axes>"
      ]
     },
     "metadata": {
      "needs_background": "light"
     },
     "output_type": "display_data"
    }
   ],
   "source": [
    "plt.figure(figsize=(15, 8))\n",
    "for i in range(0, len(cats)):\n",
    "    plt.subplot(2, 3, i+1)\n",
    "    sns.countplot(x = df[cats[i]], palette=sns.color_palette('Set2'))\n",
    "    plt.tight_layout()"
   ]
  },
  {
   "cell_type": "markdown",
   "metadata": {
    "id": "3iqVbOyFWcnd"
   },
   "source": [
    "Terakhir kita lihat count plot untuk setiap data. Seperti pengamatan kita sebelumnya, distribusi `Gender` dan `Vehicle Age` didominasi 1-2 value."
   ]
  },
  {
   "cell_type": "markdown",
   "metadata": {
    "id": "na6hG7iJWcne"
   },
   "source": [
    "## Bivariate Analysis"
   ]
  },
  {
   "cell_type": "markdown",
   "metadata": {
    "id": "xR7Sg6NgWcne"
   },
   "source": [
    "Setelah menilik setiap kolom secara individual, sekarang kita akan melihat hubungan antar kolom. Mengetahui hubungan antar kolom dapat membantu kita memilih fitur-fitur yang paling penting dan mengesampingkan *feature* yang redundan."
   ]
  },
  {
   "cell_type": "markdown",
   "metadata": {},
   "source": [
    "### Correlation between Independent and Dependent Feature"
   ]
  },
  {
   "cell_type": "markdown",
   "metadata": {},
   "source": [
    "### Response by Gender"
   ]
  },
  {
   "cell_type": "code",
   "execution_count": 16,
   "metadata": {},
   "outputs": [
    {
     "data": {
      "image/png": "[encoded data removed]",
      "text/plain": [
       "<Figure size 1080x360 with 1 Axes>"
      ]
     },
     "metadata": {
      "needs_background": "light"
     },
     "output_type": "display_data"
    }
   ],
   "source": [
    "plt.figure(figsize=(15, 5))\n",
    "sns.countplot(x='Gender', hue='Response', data=df, palette=sns.color_palette('Set2'))\n",
    "plt.grid(axis='y', alpha=0.25)\n",
    "plt.show()"
   ]
  },
  {
   "cell_type": "markdown",
   "metadata": {},
   "source": [
    "Either pelanggan yang tertarik maupun yang tidak tertarik didominasi oleh jenis kelamin laki-laki"
   ]
  },
  {
   "cell_type": "markdown",
   "metadata": {},
   "source": [
    "### Response by Age"
   ]
  },
  {
   "cell_type": "code",
   "execution_count": 17,
   "metadata": {},
   "outputs": [
    {
     "data": {
      "image/png": "[encoded data removed]",
      "text/plain": [
       "<Figure size 2160x1080 with 1 Axes>"
      ]
     },
     "metadata": {
      "needs_background": "light"
     },
     "output_type": "display_data"
    }
   ],
   "source": [
    "plt.figure(figsize=(30,15))\n",
    "sns.countplot(x='Age', hue='Response', data=df, palette=sns.color_palette('Set2'))\n",
    "plt.grid(axis='y', alpha=0.25)\n",
    "plt.show()"
   ]
  },
  {
   "cell_type": "markdown",
   "metadata": {},
   "source": [
    "Pelanggan yang tidak tertarik sangat didominasi oleh pelanggan yang masih muda dengan rentang usia antara 20 - 30 tahun."
   ]
  },
  {
   "cell_type": "markdown",
   "metadata": {},
   "source": [
    "### Response by Driving License"
   ]
  },
  {
   "cell_type": "code",
   "execution_count": 18,
   "metadata": {},
   "outputs": [
    {
     "data": {
      "image/png": "[encoded data removed]",
      "text/plain": [
       "<Figure size 1080x360 with 1 Axes>"
      ]
     },
     "metadata": {
      "needs_background": "light"
     },
     "output_type": "display_data"
    }
   ],
   "source": [
    "plt.figure(figsize=(15, 5))\n",
    "sns.countplot(x='Driving_License', hue='Response', data=df, palette=sns.color_palette('Set2'))\n",
    "plt.grid(axis='y', alpha=0.25)\n",
    "plt.show()"
   ]
  },
  {
   "cell_type": "markdown",
   "metadata": {},
   "source": [
    "Karena perbandingan jumlah pelanggan yang memiliki dan yang tidak memiliki surat izin mengemudi ini sangat timpang jauh hampir 99:1. Kemungkinan kolom ini kurang berpengaruh terhadap response."
   ]
  },
  {
   "cell_type": "markdown",
   "metadata": {},
   "source": [
    "### Response by Region Code"
   ]
  },
  {
   "cell_type": "code",
   "execution_count": 19,
   "metadata": {},
   "outputs": [
    {
     "data": {
      "image/png": "[encoded data removed]",
      "text/plain": [
       "<Figure size 2880x1080 with 1 Axes>"
      ]
     },
     "metadata": {
      "needs_background": "light"
     },
     "output_type": "display_data"
    }
   ],
   "source": [
    "plt.figure(figsize=(40,15))\n",
    "sns.countplot(x='Region_Code', hue='Response', data=df, palette=sns.color_palette('Set2'))\n",
    "plt.grid(axis='y', alpha=0.25)\n",
    "plt.xlabel('Region Code',fontsize=20, weight='bold')\n",
    "plt.ylabel('Count',fontsize=20, weight='bold')\n",
    "plt.show()"
   ]
  },
  {
   "cell_type": "markdown",
   "metadata": {},
   "source": [
    "Kode region 28 memiliki grafik yang tinggi, baik yang tertarik maupun yang tidak tertarik, mengindikasikan dataset didominasi oleh pelanggan yang berasal dari daerah dengan kode region 28."
   ]
  },
  {
   "cell_type": "markdown",
   "metadata": {},
   "source": [
    "### Response by Previously Insured"
   ]
  },
  {
   "cell_type": "code",
   "execution_count": 20,
   "metadata": {},
   "outputs": [
    {
     "data": {
      "image/png": "[encoded data removed]",
      "text/plain": [
       "<Figure size 1080x360 with 1 Axes>"
      ]
     },
     "metadata": {
      "needs_background": "light"
     },
     "output_type": "display_data"
    }
   ],
   "source": [
    "plt.figure(figsize=(15, 5))\n",
    "sns.countplot(x='Previously_Insured', hue='Response', data=df, palette=sns.color_palette('Set2'))\n",
    "plt.grid(axis='y', alpha=0.25)\n",
    "plt.show()"
   ]
  },
  {
   "cell_type": "markdown",
   "metadata": {},
   "source": [
    "Dari visualisasi diatas, pelanggan yang sebelumnya memiliki asuransi kendaraan memang sedikit bahkan hampir tidak ada yang tertarik."
   ]
  },
  {
   "cell_type": "markdown",
   "metadata": {},
   "source": [
    "### Response by Vehicle Age"
   ]
  },
  {
   "cell_type": "code",
   "execution_count": 21,
   "metadata": {},
   "outputs": [
    {
     "data": {
      "image/png": "[encoded data removed]",
      "text/plain": [
       "<Figure size 1080x360 with 1 Axes>"
      ]
     },
     "metadata": {
      "needs_background": "light"
     },
     "output_type": "display_data"
    }
   ],
   "source": [
    "plt.figure(figsize=(15, 5))\n",
    "sns.countplot(x='Vehicle_Age', hue='Response', data=df, palette=sns.color_palette('Set2'))\n",
    "plt.grid(axis='y', alpha=0.25)\n",
    "plt.show()"
   ]
  },
  {
   "cell_type": "markdown",
   "metadata": {},
   "source": [
    "Pengamatan:<br>\n",
    "1. Baik pelanggan yang tertarik maupun yang tidak tertarik, keduanya didominasi oleh pelanggan yang memiliki kendaraan dengan usia kendaraannya 1 - 2 tahun.\n",
    "2. Hal menarik terlihat pada pelanggan yang memiliki kendaraan dengan usia kendaraannya kurang dari 1 tahun, perbandingannya sangat timpang sekali, mereka cenderung tidak tertarik terhadap penawaran asuransi kendaraan yang kita tawarkan."
   ]
  },
  {
   "cell_type": "markdown",
   "metadata": {},
   "source": [
    "### Response by Vehicle Damage"
   ]
  },
  {
   "cell_type": "code",
   "execution_count": 22,
   "metadata": {},
   "outputs": [
    {
     "data": {
      "image/png": "[encoded data removed]",
      "text/plain": [
       "<Figure size 1080x360 with 1 Axes>"
      ]
     },
     "metadata": {
      "needs_background": "light"
     },
     "output_type": "display_data"
    }
   ],
   "source": [
    "plt.figure(figsize=(15, 5))\n",
    "sns.countplot(x='Vehicle_Damage', hue='Response', data=df, palette=sns.color_palette('Set2'))\n",
    "plt.grid(axis='y', alpha=0.25)\n",
    "plt.show()"
   ]
  },
  {
   "cell_type": "markdown",
   "metadata": {},
   "source": [
    "Pelanggan yang kendaraannya belum pernah mengalami kerusakan hampir tidak tertarik terhadap penawaran asuransi kendaraan."
   ]
  },
  {
   "cell_type": "markdown",
   "metadata": {},
   "source": [
    "### Response by Annual Premium"
   ]
  },
  {
   "cell_type": "code",
   "execution_count": 23,
   "metadata": {},
   "outputs": [
    {
     "data": {
      "image/png": "[encoded data removed]",
      "text/plain": [
       "<Figure size 1080x360 with 1 Axes>"
      ]
     },
     "metadata": {
      "needs_background": "light"
     },
     "output_type": "display_data"
    }
   ],
   "source": [
    "plt.figure(figsize=(15, 5))\n",
    "df.groupby('Response')['Annual_Premium'] \\\n",
    "    .median() \\\n",
    "    .plot.bar(color=['g','orange'], alpha=0.6)\n",
    "plt.grid(axis='y', alpha=0.25)\n",
    "plt.ylabel('Count')\n",
    "plt.show()"
   ]
  },
  {
   "cell_type": "markdown",
   "metadata": {},
   "source": [
    "Karena sebelumnya kita tahu bahwa kolom `Annual Premium` ini memiliki distribusi yang skew dikarenakan outlier, maka disini tidak menggunakan nilai `Mean`, karena nilai `Mean` tidak robust terhadap keberadaan outliers. Tetapi dengan memakai nilai `Median` atau nilai tengah pun tidak terlalu jauh perbedaan dari keduanya."
   ]
  },
  {
   "cell_type": "markdown",
   "metadata": {},
   "source": [
    "### Response by Policy Sales Channel"
   ]
  },
  {
   "cell_type": "code",
   "execution_count": 24,
   "metadata": {},
   "outputs": [
    {
     "data": {
      "image/png": "[encoded data removed]",
      "text/plain": [
       "<Figure size 2160x1080 with 1 Axes>"
      ]
     },
     "metadata": {
      "needs_background": "light"
     },
     "output_type": "display_data"
    }
   ],
   "source": [
    "plt.figure(figsize=(30,15))\n",
    "sns.countplot(x='Policy_Sales_Channel', hue='Response', data=df, palette=sns.color_palette('Set2'))\n",
    "plt.grid(axis='y', alpha=0.25)\n",
    "plt.show()"
   ]
  },
  {
   "cell_type": "markdown",
   "metadata": {},
   "source": [
    "Seperti yang kita ketahui sebelumnya, meskipun kolom `Policy Sales Channel` adalah sebuah kolom numerik, namun angka yang terdapat pada kolom tersebut hanya sebagai kode unik atau label bagaimana perusahaan menghubungi/menjangkau pelanggan, bukan sebuah nilai angka yang bisa dijumlahkan atau dihitung. Dan juga tidak terdapat keterangan yang jelas mengenai keterangan dari setiap angkanya tersebut."
   ]
  },
  {
   "cell_type": "markdown",
   "metadata": {},
   "source": [
    "### Response by Vintage"
   ]
  },
  {
   "cell_type": "code",
   "execution_count": 25,
   "metadata": {},
   "outputs": [
    {
     "data": {
      "image/png": "[encoded data removed]",
      "text/plain": [
       "<Figure size 1080x360 with 1 Axes>"
      ]
     },
     "metadata": {
      "needs_background": "light"
     },
     "output_type": "display_data"
    }
   ],
   "source": [
    "plt.figure(figsize=(15, 5))\n",
    "df.groupby('Response')['Vintage'].mean().plot.bar(color='g', alpha=0.6)\n",
    "plt.grid(axis='y', alpha=0.25)\n",
    "plt.show()"
   ]
  },
  {
   "cell_type": "markdown",
   "metadata": {},
   "source": [
    "Karena kolom `Vintage` adalah kolom yang berisi informasi mengenai lama pelanggan berlangganan asuransi dalam bentuk jumlah hari, rata-rata dari pelanggan yang tertarik maupun yang tidak cenderung hampir sama, tidak terdapat perbedaan yang signifikan."
   ]
  },
  {
   "cell_type": "markdown",
   "metadata": {
    "id": "qa7EPitBWcne"
   },
   "source": [
    "### Correlation heatmap"
   ]
  },
  {
   "cell_type": "code",
   "execution_count": 26,
   "metadata": {
    "colab": {
     "base_uri": "https://localhost:8080/",
     "height": 300
    },
    "executionInfo": {
     "elapsed": 312,
     "status": "ok",
     "timestamp": 1648269730056,
     "user": {
      "displayName": "Pararawendy Indarjo",
      "photoUrl": "https://lh3.googleusercontent.com/a-/AOh14GioQ0c_uukSFDoTcJVdqexZctAqHkGZbwVqv9WxOw=s64",
      "userId": "09035664507663317723"
     },
     "user_tz": -420
    },
    "id": "zIpuU5e8ASVT",
    "outputId": "fd37922f-c9c3-44b6-a1b5-a60865ae7cf6"
   },
   "outputs": [
    {
     "data": {
      "text/html": [
       "<div>\n",
       "<style scoped>\n",
       "    .dataframe tbody tr th:only-of-type {\n",
       "        vertical-align: middle;\n",
       "    }\n",
       "\n",
       "    .dataframe tbody tr th {\n",
       "        vertical-align: top;\n",
       "    }\n",
       "\n",
       "    .dataframe thead th {\n",
       "        text-align: right;\n",
       "    }\n",
       "</style>\n",
       "<table border=\"1\" class=\"dataframe\">\n",
       "  <thead>\n",
       "    <tr style=\"text-align: right;\">\n",
       "      <th></th>\n",
       "      <th>id</th>\n",
       "      <th>Age</th>\n",
       "      <th>Driving_License</th>\n",
       "      <th>Region_Code</th>\n",
       "      <th>Previously_Insured</th>\n",
       "      <th>Annual_Premium</th>\n",
       "      <th>Policy_Sales_Channel</th>\n",
       "      <th>Vintage</th>\n",
       "      <th>Response</th>\n",
       "    </tr>\n",
       "  </thead>\n",
       "  <tbody>\n",
       "    <tr>\n",
       "      <th>id</th>\n",
       "      <td>1.000000</td>\n",
       "      <td>0.001561</td>\n",
       "      <td>-0.000564</td>\n",
       "      <td>-0.000572</td>\n",
       "      <td>0.002457</td>\n",
       "      <td>0.003027</td>\n",
       "      <td>-0.002837</td>\n",
       "      <td>-0.000630</td>\n",
       "      <td>-0.001368</td>\n",
       "    </tr>\n",
       "    <tr>\n",
       "      <th>Age</th>\n",
       "      <td>0.001561</td>\n",
       "      <td>1.000000</td>\n",
       "      <td>-0.079782</td>\n",
       "      <td>0.042574</td>\n",
       "      <td>-0.254682</td>\n",
       "      <td>0.067507</td>\n",
       "      <td>-0.577826</td>\n",
       "      <td>-0.001264</td>\n",
       "      <td>0.111147</td>\n",
       "    </tr>\n",
       "    <tr>\n",
       "      <th>Driving_License</th>\n",
       "      <td>-0.000564</td>\n",
       "      <td>-0.079782</td>\n",
       "      <td>1.000000</td>\n",
       "      <td>-0.001081</td>\n",
       "      <td>0.014969</td>\n",
       "      <td>-0.011906</td>\n",
       "      <td>0.043731</td>\n",
       "      <td>-0.000848</td>\n",
       "      <td>0.010155</td>\n",
       "    </tr>\n",
       "    <tr>\n",
       "      <th>Region_Code</th>\n",
       "      <td>-0.000572</td>\n",
       "      <td>0.042574</td>\n",
       "      <td>-0.001081</td>\n",
       "      <td>1.000000</td>\n",
       "      <td>-0.024659</td>\n",
       "      <td>-0.010588</td>\n",
       "      <td>-0.042420</td>\n",
       "      <td>-0.002750</td>\n",
       "      <td>0.010570</td>\n",
       "    </tr>\n",
       "    <tr>\n",
       "      <th>Previously_Insured</th>\n",
       "      <td>0.002457</td>\n",
       "      <td>-0.254682</td>\n",
       "      <td>0.014969</td>\n",
       "      <td>-0.024659</td>\n",
       "      <td>1.000000</td>\n",
       "      <td>0.004269</td>\n",
       "      <td>0.219381</td>\n",
       "      <td>0.002537</td>\n",
       "      <td>-0.341170</td>\n",
       "    </tr>\n",
       "    <tr>\n",
       "      <th>Annual_Premium</th>\n",
       "      <td>0.003027</td>\n",
       "      <td>0.067507</td>\n",
       "      <td>-0.011906</td>\n",
       "      <td>-0.010588</td>\n",
       "      <td>0.004269</td>\n",
       "      <td>1.000000</td>\n",
       "      <td>-0.113247</td>\n",
       "      <td>-0.000608</td>\n",
       "      <td>0.022575</td>\n",
       "    </tr>\n",
       "    <tr>\n",
       "      <th>Policy_Sales_Channel</th>\n",
       "      <td>-0.002837</td>\n",
       "      <td>-0.577826</td>\n",
       "      <td>0.043731</td>\n",
       "      <td>-0.042420</td>\n",
       "      <td>0.219381</td>\n",
       "      <td>-0.113247</td>\n",
       "      <td>1.000000</td>\n",
       "      <td>0.000002</td>\n",
       "      <td>-0.139042</td>\n",
       "    </tr>\n",
       "    <tr>\n",
       "      <th>Vintage</th>\n",
       "      <td>-0.000630</td>\n",
       "      <td>-0.001264</td>\n",
       "      <td>-0.000848</td>\n",
       "      <td>-0.002750</td>\n",
       "      <td>0.002537</td>\n",
       "      <td>-0.000608</td>\n",
       "      <td>0.000002</td>\n",
       "      <td>1.000000</td>\n",
       "      <td>-0.001050</td>\n",
       "    </tr>\n",
       "    <tr>\n",
       "      <th>Response</th>\n",
       "      <td>-0.001368</td>\n",
       "      <td>0.111147</td>\n",
       "      <td>0.010155</td>\n",
       "      <td>0.010570</td>\n",
       "      <td>-0.341170</td>\n",
       "      <td>0.022575</td>\n",
       "      <td>-0.139042</td>\n",
       "      <td>-0.001050</td>\n",
       "      <td>1.000000</td>\n",
       "    </tr>\n",
       "  </tbody>\n",
       "</table>\n",
       "</div>"
      ],
      "text/plain": [
       "                            id       Age  Driving_License  Region_Code  \\\n",
       "id                    1.000000  0.001561        -0.000564    -0.000572   \n",
       "Age                   0.001561  1.000000        -0.079782     0.042574   \n",
       "Driving_License      -0.000564 -0.079782         1.000000    -0.001081   \n",
       "Region_Code          -0.000572  0.042574        -0.001081     1.000000   \n",
       "Previously_Insured    0.002457 -0.254682         0.014969    -0.024659   \n",
       "Annual_Premium        0.003027  0.067507        -0.011906    -0.010588   \n",
       "Policy_Sales_Channel -0.002837 -0.577826         0.043731    -0.042420   \n",
       "Vintage              -0.000630 -0.001264        -0.000848    -0.002750   \n",
       "Response             -0.001368  0.111147         0.010155     0.010570   \n",
       "\n",
       "                      Previously_Insured  Annual_Premium  \\\n",
       "id                              0.002457        0.003027   \n",
       "Age                            -0.254682        0.067507   \n",
       "Driving_License                 0.014969       -0.011906   \n",
       "Region_Code                    -0.024659       -0.010588   \n",
       "Previously_Insured              1.000000        0.004269   \n",
       "Annual_Premium                  0.004269        1.000000   \n",
       "Policy_Sales_Channel            0.219381       -0.113247   \n",
       "Vintage                         0.002537       -0.000608   \n",
       "Response                       -0.341170        0.022575   \n",
       "\n",
       "                      Policy_Sales_Channel   Vintage  Response  \n",
       "id                               -0.002837 -0.000630 -0.001368  \n",
       "Age                              -0.577826 -0.001264  0.111147  \n",
       "Driving_License                   0.043731 -0.000848  0.010155  \n",
       "Region_Code                      -0.042420 -0.002750  0.010570  \n",
       "Previously_Insured                0.219381  0.002537 -0.341170  \n",
       "Annual_Premium                   -0.113247 -0.000608  0.022575  \n",
       "Policy_Sales_Channel              1.000000  0.000002 -0.139042  \n",
       "Vintage                           0.000002  1.000000 -0.001050  \n",
       "Response                         -0.139042 -0.001050  1.000000  "
      ]
     },
     "execution_count": 26,
     "metadata": {},
     "output_type": "execute_result"
    }
   ],
   "source": [
    "df.corr()"
   ]
  },
  {
   "cell_type": "code",
   "execution_count": 27,
   "metadata": {
    "ExecuteTime": {
     "end_time": "2020-08-29T00:32:15.304922Z",
     "start_time": "2020-08-29T00:32:14.836179Z"
    },
    "colab": {
     "base_uri": "https://localhost:8080/",
     "height": 589
    },
    "executionInfo": {
     "elapsed": 1259,
     "status": "ok",
     "timestamp": 1648269741740,
     "user": {
      "displayName": "Pararawendy Indarjo",
      "photoUrl": "https://lh3.googleusercontent.com/a-/AOh14GioQ0c_uukSFDoTcJVdqexZctAqHkGZbwVqv9WxOw=s64",
      "userId": "09035664507663317723"
     },
     "user_tz": -420
    },
    "id": "Q1KXwJlPWcne",
    "outputId": "4bc665e3-b619-4e71-91e0-c2dff46ea152"
   },
   "outputs": [
    {
     "data": {
      "image/png": "[encoded data removed]",
      "text/plain": [
       "<Figure size 1080x720 with 2 Axes>"
      ]
     },
     "metadata": {
      "needs_background": "light"
     },
     "output_type": "display_data"
    }
   ],
   "source": [
    "# correlation heatmap\n",
    "plt.figure(figsize=(15, 10))\n",
    "sns.heatmap(df.corr(), cmap='Blues', annot=True, fmt='.2f')\n",
    "plt.savefig('images/corr_heatmap.png')\n",
    "plt.show()"
   ]
  },
  {
   "cell_type": "markdown",
   "metadata": {
    "id": "5IV0XEBRWcne"
   },
   "source": [
    "Dari *correlation heatmap* di atas dapat dilihat bahwa:\n",
    "* Kolom target kita `Response` berkorelasi cukup kuat dengan `Previously Insured` namun korelasinya negatif. \n",
    "* Ia memiliki korelasi positif lemah dengan `Age` dan korelasi negatif lemah dengan `Policy Sales Channel` (decent potential feature)\n",
    "* Sedangkan korelasi `Response` dengan `Driving License` dan `Region Code` sangat lemah ~0, ini menandakan bisa jadi mereka bukan fitur yang potensial\n",
    "* Kolom `Age` memiliki korelasi negatif yang cukup kuat dengan `Policy Sales Channel`, namun korelasi ini tidak cukup kuat untuk dikatakan redundant.\n",
    "* Kolom `Vintage` tidak memiliki korelasi sama sekali dengan kolom manapun, menandakan kolom ini tidak penting dan bisa dibuang saja."
   ]
  },
  {
   "cell_type": "markdown",
   "metadata": {
    "id": "F7H_qRm8C6Fk"
   },
   "source": [
    "## EDA Conclusion"
   ]
  },
  {
   "cell_type": "markdown",
   "metadata": {},
   "source": [
    "Beberapa hal yang kita temukan dari EDA dataset ini adalah:\n",
    "* Data terlihat valid dan tidak ada kecacatan yang major/signifikan\n",
    "* Tipe dan nilai data pada setiap kolom terlihat normal\n",
    "* Tidak terdapat null values atau nilai yang kosong pada setiap kolom\n",
    "* Distribusi kolom *target* yaitu `Response` terlihat imbalance. Bila diperlukan, kita akan melakukan teknik oversampling atau undersampling pada kolom tersebut. \n",
    "* Pada kolom `Annual Premium` terdapat outliers, maka harus dilakukan handling pada tahap Data Processing.\n",
    "* Beberapa *feature* memiliki korelasi yang jelas dengan *target*, mereka akan dipakai\n",
    "* Kolom `Vintage` terlihat sama sekali tidak berkorelasi, baik dengan kolom *target* maupun dengan kolom yang lain, maka sebaiknya diabaikan"
   ]
  },
  {
   "cell_type": "markdown",
   "metadata": {},
   "source": [
    "# Data Processing"
   ]
  },
  {
   "cell_type": "markdown",
   "metadata": {},
   "source": [
    "## Train Test Split Dataset"
   ]
  },
  {
   "cell_type": "markdown",
   "metadata": {},
   "source": [
    "Sebelum melakukan `Data Processing` pada dataset, kita harus membagi dataset menjadi Training data dan Test data supaya tidak terjadi kebocoran data dan membuat data pada \"Test Data\" tetap organik menggambarkan keadaan data yang sebenarnya di dunia nyata."
   ]
  },
  {
   "cell_type": "code",
   "execution_count": 28,
   "metadata": {},
   "outputs": [
    {
     "name": "stdout",
     "output_type": "stream",
     "text": [
      "Jumlah baris pada Data Training :  342998\n",
      "Jumlah baris pada Data Testing :  38111\n"
     ]
    }
   ],
   "source": [
    "train_data, test_data = train_test_split(df, test_size=0.1, random_state=42)\n",
    "print('Jumlah baris pada Data Training : ', len(train_data))\n",
    "print('Jumlah baris pada Data Testing : ', len(test_data))"
   ]
  },
  {
   "cell_type": "markdown",
   "metadata": {},
   "source": [
    "## Drop kolom `id`"
   ]
  },
  {
   "cell_type": "markdown",
   "metadata": {},
   "source": [
    "Karena kolom `id` adalah sebuah angka unik untuk identitas setiap baris pada data dan tidak berpengaruh sama sekali terhadap model, maka di buang saja."
   ]
  },
  {
   "cell_type": "code",
   "execution_count": 29,
   "metadata": {},
   "outputs": [
    {
     "data": {
      "text/html": [
       "<div>\n",
       "<style scoped>\n",
       "    .dataframe tbody tr th:only-of-type {\n",
       "        vertical-align: middle;\n",
       "    }\n",
       "\n",
       "    .dataframe tbody tr th {\n",
       "        vertical-align: top;\n",
       "    }\n",
       "\n",
       "    .dataframe thead th {\n",
       "        text-align: right;\n",
       "    }\n",
       "</style>\n",
       "<table border=\"1\" class=\"dataframe\">\n",
       "  <thead>\n",
       "    <tr style=\"text-align: right;\">\n",
       "      <th></th>\n",
       "      <th>Gender</th>\n",
       "      <th>Age</th>\n",
       "      <th>Driving_License</th>\n",
       "      <th>Region_Code</th>\n",
       "      <th>Previously_Insured</th>\n",
       "      <th>Vehicle_Age</th>\n",
       "      <th>Vehicle_Damage</th>\n",
       "      <th>Annual_Premium</th>\n",
       "      <th>Policy_Sales_Channel</th>\n",
       "      <th>Vintage</th>\n",
       "      <th>Response</th>\n",
       "    </tr>\n",
       "  </thead>\n",
       "  <tbody>\n",
       "    <tr>\n",
       "      <th>273483</th>\n",
       "      <td>Male</td>\n",
       "      <td>59</td>\n",
       "      <td>1</td>\n",
       "      <td>28.0</td>\n",
       "      <td>0</td>\n",
       "      <td>1-2 Year</td>\n",
       "      <td>Yes</td>\n",
       "      <td>21261.0</td>\n",
       "      <td>26.0</td>\n",
       "      <td>144</td>\n",
       "      <td>0</td>\n",
       "    </tr>\n",
       "    <tr>\n",
       "      <th>371246</th>\n",
       "      <td>Female</td>\n",
       "      <td>42</td>\n",
       "      <td>1</td>\n",
       "      <td>1.0</td>\n",
       "      <td>0</td>\n",
       "      <td>1-2 Year</td>\n",
       "      <td>Yes</td>\n",
       "      <td>2630.0</td>\n",
       "      <td>124.0</td>\n",
       "      <td>211</td>\n",
       "      <td>0</td>\n",
       "    </tr>\n",
       "    <tr>\n",
       "      <th>90689</th>\n",
       "      <td>Male</td>\n",
       "      <td>23</td>\n",
       "      <td>1</td>\n",
       "      <td>18.0</td>\n",
       "      <td>1</td>\n",
       "      <td>&lt; 1 Year</td>\n",
       "      <td>No</td>\n",
       "      <td>29869.0</td>\n",
       "      <td>152.0</td>\n",
       "      <td>80</td>\n",
       "      <td>0</td>\n",
       "    </tr>\n",
       "    <tr>\n",
       "      <th>94809</th>\n",
       "      <td>Female</td>\n",
       "      <td>25</td>\n",
       "      <td>1</td>\n",
       "      <td>47.0</td>\n",
       "      <td>0</td>\n",
       "      <td>&lt; 1 Year</td>\n",
       "      <td>Yes</td>\n",
       "      <td>42822.0</td>\n",
       "      <td>152.0</td>\n",
       "      <td>199</td>\n",
       "      <td>0</td>\n",
       "    </tr>\n",
       "    <tr>\n",
       "      <th>50505</th>\n",
       "      <td>Male</td>\n",
       "      <td>55</td>\n",
       "      <td>1</td>\n",
       "      <td>26.0</td>\n",
       "      <td>1</td>\n",
       "      <td>1-2 Year</td>\n",
       "      <td>No</td>\n",
       "      <td>33225.0</td>\n",
       "      <td>22.0</td>\n",
       "      <td>230</td>\n",
       "      <td>0</td>\n",
       "    </tr>\n",
       "  </tbody>\n",
       "</table>\n",
       "</div>"
      ],
      "text/plain": [
       "        Gender  Age  Driving_License  Region_Code  Previously_Insured  \\\n",
       "273483    Male   59                1         28.0                   0   \n",
       "371246  Female   42                1          1.0                   0   \n",
       "90689     Male   23                1         18.0                   1   \n",
       "94809   Female   25                1         47.0                   0   \n",
       "50505     Male   55                1         26.0                   1   \n",
       "\n",
       "       Vehicle_Age Vehicle_Damage  Annual_Premium  Policy_Sales_Channel  \\\n",
       "273483    1-2 Year            Yes         21261.0                  26.0   \n",
       "371246    1-2 Year            Yes          2630.0                 124.0   \n",
       "90689     < 1 Year             No         29869.0                 152.0   \n",
       "94809     < 1 Year            Yes         42822.0                 152.0   \n",
       "50505     1-2 Year             No         33225.0                  22.0   \n",
       "\n",
       "        Vintage  Response  \n",
       "273483      144         0  \n",
       "371246      211         0  \n",
       "90689        80         0  \n",
       "94809       199         0  \n",
       "50505       230         0  "
      ]
     },
     "execution_count": 29,
     "metadata": {},
     "output_type": "execute_result"
    }
   ],
   "source": [
    "train_data = train_data.drop('id', axis=1)\n",
    "train_data.head()"
   ]
  },
  {
   "cell_type": "markdown",
   "metadata": {},
   "source": [
    "### Drop kolom `id` pada Test data"
   ]
  },
  {
   "cell_type": "code",
   "execution_count": 30,
   "metadata": {},
   "outputs": [
    {
     "data": {
      "text/html": [
       "<div>\n",
       "<style scoped>\n",
       "    .dataframe tbody tr th:only-of-type {\n",
       "        vertical-align: middle;\n",
       "    }\n",
       "\n",
       "    .dataframe tbody tr th {\n",
       "        vertical-align: top;\n",
       "    }\n",
       "\n",
       "    .dataframe thead th {\n",
       "        text-align: right;\n",
       "    }\n",
       "</style>\n",
       "<table border=\"1\" class=\"dataframe\">\n",
       "  <thead>\n",
       "    <tr style=\"text-align: right;\">\n",
       "      <th></th>\n",
       "      <th>Gender</th>\n",
       "      <th>Age</th>\n",
       "      <th>Driving_License</th>\n",
       "      <th>Region_Code</th>\n",
       "      <th>Previously_Insured</th>\n",
       "      <th>Vehicle_Age</th>\n",
       "      <th>Vehicle_Damage</th>\n",
       "      <th>Annual_Premium</th>\n",
       "      <th>Policy_Sales_Channel</th>\n",
       "      <th>Vintage</th>\n",
       "      <th>Response</th>\n",
       "    </tr>\n",
       "  </thead>\n",
       "  <tbody>\n",
       "    <tr>\n",
       "      <th>200222</th>\n",
       "      <td>Female</td>\n",
       "      <td>21</td>\n",
       "      <td>1</td>\n",
       "      <td>3.0</td>\n",
       "      <td>1</td>\n",
       "      <td>&lt; 1 Year</td>\n",
       "      <td>No</td>\n",
       "      <td>20408.0</td>\n",
       "      <td>160.0</td>\n",
       "      <td>72</td>\n",
       "      <td>0</td>\n",
       "    </tr>\n",
       "    <tr>\n",
       "      <th>49766</th>\n",
       "      <td>Male</td>\n",
       "      <td>55</td>\n",
       "      <td>1</td>\n",
       "      <td>15.0</td>\n",
       "      <td>0</td>\n",
       "      <td>1-2 Year</td>\n",
       "      <td>Yes</td>\n",
       "      <td>37498.0</td>\n",
       "      <td>26.0</td>\n",
       "      <td>102</td>\n",
       "      <td>0</td>\n",
       "    </tr>\n",
       "    <tr>\n",
       "      <th>172201</th>\n",
       "      <td>Female</td>\n",
       "      <td>41</td>\n",
       "      <td>1</td>\n",
       "      <td>3.0</td>\n",
       "      <td>0</td>\n",
       "      <td>1-2 Year</td>\n",
       "      <td>Yes</td>\n",
       "      <td>2630.0</td>\n",
       "      <td>26.0</td>\n",
       "      <td>90</td>\n",
       "      <td>0</td>\n",
       "    </tr>\n",
       "    <tr>\n",
       "      <th>160713</th>\n",
       "      <td>Female</td>\n",
       "      <td>26</td>\n",
       "      <td>1</td>\n",
       "      <td>11.0</td>\n",
       "      <td>0</td>\n",
       "      <td>&lt; 1 Year</td>\n",
       "      <td>No</td>\n",
       "      <td>2630.0</td>\n",
       "      <td>151.0</td>\n",
       "      <td>268</td>\n",
       "      <td>0</td>\n",
       "    </tr>\n",
       "    <tr>\n",
       "      <th>53272</th>\n",
       "      <td>Male</td>\n",
       "      <td>51</td>\n",
       "      <td>1</td>\n",
       "      <td>40.0</td>\n",
       "      <td>0</td>\n",
       "      <td>1-2 Year</td>\n",
       "      <td>Yes</td>\n",
       "      <td>34006.0</td>\n",
       "      <td>124.0</td>\n",
       "      <td>265</td>\n",
       "      <td>0</td>\n",
       "    </tr>\n",
       "  </tbody>\n",
       "</table>\n",
       "</div>"
      ],
      "text/plain": [
       "        Gender  Age  Driving_License  Region_Code  Previously_Insured  \\\n",
       "200222  Female   21                1          3.0                   1   \n",
       "49766     Male   55                1         15.0                   0   \n",
       "172201  Female   41                1          3.0                   0   \n",
       "160713  Female   26                1         11.0                   0   \n",
       "53272     Male   51                1         40.0                   0   \n",
       "\n",
       "       Vehicle_Age Vehicle_Damage  Annual_Premium  Policy_Sales_Channel  \\\n",
       "200222    < 1 Year             No         20408.0                 160.0   \n",
       "49766     1-2 Year            Yes         37498.0                  26.0   \n",
       "172201    1-2 Year            Yes          2630.0                  26.0   \n",
       "160713    < 1 Year             No          2630.0                 151.0   \n",
       "53272     1-2 Year            Yes         34006.0                 124.0   \n",
       "\n",
       "        Vintage  Response  \n",
       "200222       72         0  \n",
       "49766       102         0  \n",
       "172201       90         0  \n",
       "160713      268         0  \n",
       "53272       265         0  "
      ]
     },
     "execution_count": 30,
     "metadata": {},
     "output_type": "execute_result"
    }
   ],
   "source": [
    "test_data = test_data.drop('id', axis=1)\n",
    "test_data.head()"
   ]
  },
  {
   "cell_type": "markdown",
   "metadata": {},
   "source": [
    "## Drop duplicated data"
   ]
  },
  {
   "cell_type": "markdown",
   "metadata": {},
   "source": [
    "Pada proses EDA, tidak terdapat duplikat data dikarenakan setiap baris masih unik satu sama lain berkat kolom `id`. Setelah kolom `id` di drop, maka akan dicek kembali. "
   ]
  },
  {
   "cell_type": "code",
   "execution_count": 31,
   "metadata": {},
   "outputs": [
    {
     "data": {
      "text/plain": [
       "212"
      ]
     },
     "execution_count": 31,
     "metadata": {},
     "output_type": "execute_result"
    }
   ],
   "source": [
    "train_data.duplicated().sum()"
   ]
  },
  {
   "cell_type": "markdown",
   "metadata": {},
   "source": [
    "Ternyata, terdapat 168 baris data yang duplikat atau sama pada data training. Maka akan dilakukan dropping."
   ]
  },
  {
   "cell_type": "code",
   "execution_count": 32,
   "metadata": {},
   "outputs": [
    {
     "name": "stdout",
     "output_type": "stream",
     "text": [
      "Jumlah baris duplikat sebelum didrop :  212\n",
      "Jumlah baris duplikat setelah didrop :  0\n"
     ]
    }
   ],
   "source": [
    "print('Jumlah baris duplikat sebelum didrop : ', train_data.duplicated().sum())\n",
    "train_data = train_data.drop_duplicates()\n",
    "print('Jumlah baris duplikat setelah didrop : ', train_data.duplicated().sum())"
   ]
  },
  {
   "cell_type": "markdown",
   "metadata": {},
   "source": [
    "## Handling Outliers"
   ]
  },
  {
   "cell_type": "markdown",
   "metadata": {},
   "source": [
    "Saya akan melakukan handling outliers pada kolom `Annual Premium` yang sebelumnya sudah dicek terdapat keberadaan outlier."
   ]
  },
  {
   "cell_type": "code",
   "execution_count": 33,
   "metadata": {},
   "outputs": [],
   "source": [
    "# Create function that can dropping rows with outliers value\n",
    "def removing_outlier(df,col):\n",
    "    q1 = df[col].quantile(0.25)\n",
    "    q3 = df[col].quantile(0.75)\n",
    "    iqr = q3 - q1\n",
    "    low_limit = q1 - 1.5*iqr\n",
    "    hig_limit = q3 + 1.5*iqr\n",
    "    no_outliers = df[(df[col]>low_limit)&(df[col]<hig_limit)]\n",
    "    return no_outliers"
   ]
  },
  {
   "cell_type": "code",
   "execution_count": 34,
   "metadata": {},
   "outputs": [
    {
     "data": {
      "text/plain": [
       "{'whiskers': [<matplotlib.lines.Line2D at 0x20de97cdd20>,\n",
       "  <matplotlib.lines.Line2D at 0x20de97ce230>],\n",
       " 'caps': [<matplotlib.lines.Line2D at 0x20de97cfdf0>,\n",
       "  <matplotlib.lines.Line2D at 0x20de9b94820>],\n",
       " 'boxes': [<matplotlib.lines.Line2D at 0x20de97cf970>],\n",
       " 'medians': [<matplotlib.lines.Line2D at 0x20de9b972e0>],\n",
       " 'fliers': [<matplotlib.lines.Line2D at 0x20de9b96fb0>],\n",
       " 'means': []}"
      ]
     },
     "execution_count": 34,
     "metadata": {},
     "output_type": "execute_result"
    },
    {
     "data": {
      "image/png": "[encoded data removed]",
      "text/plain": [
       "<Figure size 432x288 with 1 Axes>"
      ]
     },
     "metadata": {
      "needs_background": "light"
     },
     "output_type": "display_data"
    }
   ],
   "source": [
    "# Check the distribution of annual premium using boxplot before handling outliers\n",
    "plt.boxplot(train_data['Annual_Premium'])"
   ]
  },
  {
   "cell_type": "code",
   "execution_count": 35,
   "metadata": {},
   "outputs": [
    {
     "name": "stdout",
     "output_type": "stream",
     "text": [
      "Jumlah baris sebelum drop outliers :  342786\n",
      "Jumlah baris setelah drop outliers :  333500\n"
     ]
    }
   ],
   "source": [
    "print('Jumlah baris sebelum drop outliers : ', len(train_data))\n",
    "train_data = removing_outlier(train_data,\"Annual_Premium\")\n",
    "print('Jumlah baris setelah drop outliers : ', len(train_data))"
   ]
  },
  {
   "cell_type": "code",
   "execution_count": 36,
   "metadata": {},
   "outputs": [
    {
     "data": {
      "text/plain": [
       "{'whiskers': [<matplotlib.lines.Line2D at 0x20de96c97b0>,\n",
       "  <matplotlib.lines.Line2D at 0x20de96c8940>],\n",
       " 'caps': [<matplotlib.lines.Line2D at 0x20de96cbdf0>,\n",
       "  <matplotlib.lines.Line2D at 0x20de96c9210>],\n",
       " 'boxes': [<matplotlib.lines.Line2D at 0x20de96cad70>],\n",
       " 'medians': [<matplotlib.lines.Line2D at 0x20de96cb430>],\n",
       " 'fliers': [<matplotlib.lines.Line2D at 0x20de96c9360>],\n",
       " 'means': []}"
      ]
     },
     "execution_count": 36,
     "metadata": {},
     "output_type": "execute_result"
    },
    {
     "data": {
      "image/png": "[encoded data removed]",
      "text/plain": [
       "<Figure size 432x288 with 1 Axes>"
      ]
     },
     "metadata": {
      "needs_background": "light"
     },
     "output_type": "display_data"
    }
   ],
   "source": [
    "# Check the distribution of annual premium using boxplot after handling outliers\n",
    "plt.boxplot(train_data['Annual_Premium'])"
   ]
  },
  {
   "cell_type": "markdown",
   "metadata": {},
   "source": [
    "## Feature Encoding"
   ]
  },
  {
   "cell_type": "markdown",
   "metadata": {},
   "source": [
    "### Label Encoding"
   ]
  },
  {
   "cell_type": "markdown",
   "metadata": {},
   "source": [
    "Pada kolom kategorikal, saya akan melakukan encoding agar nilai pada kolom tersebut menjadi sebuah angka. Pada kolom `Vehicle Age` akan dilakukan Label Encoding karena pada kolom tersebut berisi nilai Ordinal."
   ]
  },
  {
   "cell_type": "code",
   "execution_count": 37,
   "metadata": {},
   "outputs": [],
   "source": [
    "map_vehicle_age = {'< 1 Year':1,\n",
    "                   '1-2 Year':2,\n",
    "                   '> 2 Years':3}\n",
    "train_data['Vehicle_Age'] = train_data['Vehicle_Age'].map(map_vehicle_age)"
   ]
  },
  {
   "cell_type": "code",
   "execution_count": 38,
   "metadata": {
    "scrolled": true
   },
   "outputs": [
    {
     "data": {
      "text/html": [
       "<div>\n",
       "<style scoped>\n",
       "    .dataframe tbody tr th:only-of-type {\n",
       "        vertical-align: middle;\n",
       "    }\n",
       "\n",
       "    .dataframe tbody tr th {\n",
       "        vertical-align: top;\n",
       "    }\n",
       "\n",
       "    .dataframe thead th {\n",
       "        text-align: right;\n",
       "    }\n",
       "</style>\n",
       "<table border=\"1\" class=\"dataframe\">\n",
       "  <thead>\n",
       "    <tr style=\"text-align: right;\">\n",
       "      <th></th>\n",
       "      <th>Gender</th>\n",
       "      <th>Age</th>\n",
       "      <th>Driving_License</th>\n",
       "      <th>Region_Code</th>\n",
       "      <th>Previously_Insured</th>\n",
       "      <th>Vehicle_Age</th>\n",
       "      <th>Vehicle_Damage</th>\n",
       "      <th>Annual_Premium</th>\n",
       "      <th>Policy_Sales_Channel</th>\n",
       "      <th>Vintage</th>\n",
       "      <th>Response</th>\n",
       "    </tr>\n",
       "  </thead>\n",
       "  <tbody>\n",
       "    <tr>\n",
       "      <th>273483</th>\n",
       "      <td>Male</td>\n",
       "      <td>59</td>\n",
       "      <td>1</td>\n",
       "      <td>28.0</td>\n",
       "      <td>0</td>\n",
       "      <td>2</td>\n",
       "      <td>Yes</td>\n",
       "      <td>21261.0</td>\n",
       "      <td>26.0</td>\n",
       "      <td>144</td>\n",
       "      <td>0</td>\n",
       "    </tr>\n",
       "    <tr>\n",
       "      <th>371246</th>\n",
       "      <td>Female</td>\n",
       "      <td>42</td>\n",
       "      <td>1</td>\n",
       "      <td>1.0</td>\n",
       "      <td>0</td>\n",
       "      <td>2</td>\n",
       "      <td>Yes</td>\n",
       "      <td>2630.0</td>\n",
       "      <td>124.0</td>\n",
       "      <td>211</td>\n",
       "      <td>0</td>\n",
       "    </tr>\n",
       "    <tr>\n",
       "      <th>90689</th>\n",
       "      <td>Male</td>\n",
       "      <td>23</td>\n",
       "      <td>1</td>\n",
       "      <td>18.0</td>\n",
       "      <td>1</td>\n",
       "      <td>1</td>\n",
       "      <td>No</td>\n",
       "      <td>29869.0</td>\n",
       "      <td>152.0</td>\n",
       "      <td>80</td>\n",
       "      <td>0</td>\n",
       "    </tr>\n",
       "    <tr>\n",
       "      <th>94809</th>\n",
       "      <td>Female</td>\n",
       "      <td>25</td>\n",
       "      <td>1</td>\n",
       "      <td>47.0</td>\n",
       "      <td>0</td>\n",
       "      <td>1</td>\n",
       "      <td>Yes</td>\n",
       "      <td>42822.0</td>\n",
       "      <td>152.0</td>\n",
       "      <td>199</td>\n",
       "      <td>0</td>\n",
       "    </tr>\n",
       "    <tr>\n",
       "      <th>50505</th>\n",
       "      <td>Male</td>\n",
       "      <td>55</td>\n",
       "      <td>1</td>\n",
       "      <td>26.0</td>\n",
       "      <td>1</td>\n",
       "      <td>2</td>\n",
       "      <td>No</td>\n",
       "      <td>33225.0</td>\n",
       "      <td>22.0</td>\n",
       "      <td>230</td>\n",
       "      <td>0</td>\n",
       "    </tr>\n",
       "  </tbody>\n",
       "</table>\n",
       "</div>"
      ],
      "text/plain": [
       "        Gender  Age  Driving_License  Region_Code  Previously_Insured  \\\n",
       "273483    Male   59                1         28.0                   0   \n",
       "371246  Female   42                1          1.0                   0   \n",
       "90689     Male   23                1         18.0                   1   \n",
       "94809   Female   25                1         47.0                   0   \n",
       "50505     Male   55                1         26.0                   1   \n",
       "\n",
       "        Vehicle_Age Vehicle_Damage  Annual_Premium  Policy_Sales_Channel  \\\n",
       "273483            2            Yes         21261.0                  26.0   \n",
       "371246            2            Yes          2630.0                 124.0   \n",
       "90689             1             No         29869.0                 152.0   \n",
       "94809             1            Yes         42822.0                 152.0   \n",
       "50505             2             No         33225.0                  22.0   \n",
       "\n",
       "        Vintage  Response  \n",
       "273483      144         0  \n",
       "371246      211         0  \n",
       "90689        80         0  \n",
       "94809       199         0  \n",
       "50505       230         0  "
      ]
     },
     "execution_count": 38,
     "metadata": {},
     "output_type": "execute_result"
    }
   ],
   "source": [
    "train_data.head()"
   ]
  },
  {
   "cell_type": "markdown",
   "metadata": {},
   "source": [
    "Cek keberhasilan Encoding pada kolom `Vehicle Age`"
   ]
  },
  {
   "cell_type": "code",
   "execution_count": 39,
   "metadata": {},
   "outputs": [
    {
     "data": {
      "text/plain": [
       "2    174659\n",
       "1    145254\n",
       "3     13587\n",
       "Name: Vehicle_Age, dtype: int64"
      ]
     },
     "execution_count": 39,
     "metadata": {},
     "output_type": "execute_result"
    }
   ],
   "source": [
    "train_data['Vehicle_Age'].value_counts()"
   ]
  },
  {
   "cell_type": "markdown",
   "metadata": {},
   "source": [
    "### One Hot Encoding"
   ]
  },
  {
   "cell_type": "markdown",
   "metadata": {},
   "source": [
    "Untuk kolom kategorikal lainnya yaitu `Gender` dan `Vehicle Damage` akan dilakukan One Hot Encoding karena hanya berisi 2 nilai saja dan akan drop salah satu kolom hasil encoding nanti."
   ]
  },
  {
   "cell_type": "code",
   "execution_count": 40,
   "metadata": {},
   "outputs": [
    {
     "data": {
      "text/html": [
       "<div>\n",
       "<style scoped>\n",
       "    .dataframe tbody tr th:only-of-type {\n",
       "        vertical-align: middle;\n",
       "    }\n",
       "\n",
       "    .dataframe tbody tr th {\n",
       "        vertical-align: top;\n",
       "    }\n",
       "\n",
       "    .dataframe thead th {\n",
       "        text-align: right;\n",
       "    }\n",
       "</style>\n",
       "<table border=\"1\" class=\"dataframe\">\n",
       "  <thead>\n",
       "    <tr style=\"text-align: right;\">\n",
       "      <th></th>\n",
       "      <th>Gender</th>\n",
       "      <th>Age</th>\n",
       "      <th>Driving_License</th>\n",
       "      <th>Region_Code</th>\n",
       "      <th>Previously_Insured</th>\n",
       "      <th>Vehicle_Age</th>\n",
       "      <th>Vehicle_Damage</th>\n",
       "      <th>Annual_Premium</th>\n",
       "      <th>Policy_Sales_Channel</th>\n",
       "      <th>Vintage</th>\n",
       "      <th>Response</th>\n",
       "      <th>Gender_Male</th>\n",
       "      <th>Vehicle_Damage_Yes</th>\n",
       "    </tr>\n",
       "  </thead>\n",
       "  <tbody>\n",
       "    <tr>\n",
       "      <th>273483</th>\n",
       "      <td>Male</td>\n",
       "      <td>59</td>\n",
       "      <td>1</td>\n",
       "      <td>28.0</td>\n",
       "      <td>0</td>\n",
       "      <td>2</td>\n",
       "      <td>Yes</td>\n",
       "      <td>21261.0</td>\n",
       "      <td>26.0</td>\n",
       "      <td>144</td>\n",
       "      <td>0</td>\n",
       "      <td>1</td>\n",
       "      <td>1</td>\n",
       "    </tr>\n",
       "    <tr>\n",
       "      <th>371246</th>\n",
       "      <td>Female</td>\n",
       "      <td>42</td>\n",
       "      <td>1</td>\n",
       "      <td>1.0</td>\n",
       "      <td>0</td>\n",
       "      <td>2</td>\n",
       "      <td>Yes</td>\n",
       "      <td>2630.0</td>\n",
       "      <td>124.0</td>\n",
       "      <td>211</td>\n",
       "      <td>0</td>\n",
       "      <td>0</td>\n",
       "      <td>1</td>\n",
       "    </tr>\n",
       "    <tr>\n",
       "      <th>90689</th>\n",
       "      <td>Male</td>\n",
       "      <td>23</td>\n",
       "      <td>1</td>\n",
       "      <td>18.0</td>\n",
       "      <td>1</td>\n",
       "      <td>1</td>\n",
       "      <td>No</td>\n",
       "      <td>29869.0</td>\n",
       "      <td>152.0</td>\n",
       "      <td>80</td>\n",
       "      <td>0</td>\n",
       "      <td>1</td>\n",
       "      <td>0</td>\n",
       "    </tr>\n",
       "    <tr>\n",
       "      <th>94809</th>\n",
       "      <td>Female</td>\n",
       "      <td>25</td>\n",
       "      <td>1</td>\n",
       "      <td>47.0</td>\n",
       "      <td>0</td>\n",
       "      <td>1</td>\n",
       "      <td>Yes</td>\n",
       "      <td>42822.0</td>\n",
       "      <td>152.0</td>\n",
       "      <td>199</td>\n",
       "      <td>0</td>\n",
       "      <td>0</td>\n",
       "      <td>1</td>\n",
       "    </tr>\n",
       "    <tr>\n",
       "      <th>50505</th>\n",
       "      <td>Male</td>\n",
       "      <td>55</td>\n",
       "      <td>1</td>\n",
       "      <td>26.0</td>\n",
       "      <td>1</td>\n",
       "      <td>2</td>\n",
       "      <td>No</td>\n",
       "      <td>33225.0</td>\n",
       "      <td>22.0</td>\n",
       "      <td>230</td>\n",
       "      <td>0</td>\n",
       "      <td>1</td>\n",
       "      <td>0</td>\n",
       "    </tr>\n",
       "  </tbody>\n",
       "</table>\n",
       "</div>"
      ],
      "text/plain": [
       "        Gender  Age  Driving_License  Region_Code  Previously_Insured  \\\n",
       "273483    Male   59                1         28.0                   0   \n",
       "371246  Female   42                1          1.0                   0   \n",
       "90689     Male   23                1         18.0                   1   \n",
       "94809   Female   25                1         47.0                   0   \n",
       "50505     Male   55                1         26.0                   1   \n",
       "\n",
       "        Vehicle_Age Vehicle_Damage  Annual_Premium  Policy_Sales_Channel  \\\n",
       "273483            2            Yes         21261.0                  26.0   \n",
       "371246            2            Yes          2630.0                 124.0   \n",
       "90689             1             No         29869.0                 152.0   \n",
       "94809             1            Yes         42822.0                 152.0   \n",
       "50505             2             No         33225.0                  22.0   \n",
       "\n",
       "        Vintage  Response  Gender_Male  Vehicle_Damage_Yes  \n",
       "273483      144         0            1                   1  \n",
       "371246      211         0            0                   1  \n",
       "90689        80         0            1                   0  \n",
       "94809       199         0            0                   1  \n",
       "50505       230         0            1                   0  "
      ]
     },
     "execution_count": 40,
     "metadata": {},
     "output_type": "execute_result"
    }
   ],
   "source": [
    "for kolom in ['Gender','Vehicle_Damage']:\n",
    "    onehots = pd.get_dummies(train_data[kolom], prefix=kolom, drop_first=True)\n",
    "    train_data = train_data.join(onehots)\n",
    "train_data.head()"
   ]
  },
  {
   "cell_type": "markdown",
   "metadata": {},
   "source": [
    "### Drop kolom dari proses One Hot Encoding"
   ]
  },
  {
   "cell_type": "code",
   "execution_count": 41,
   "metadata": {},
   "outputs": [
    {
     "data": {
      "text/html": [
       "<div>\n",
       "<style scoped>\n",
       "    .dataframe tbody tr th:only-of-type {\n",
       "        vertical-align: middle;\n",
       "    }\n",
       "\n",
       "    .dataframe tbody tr th {\n",
       "        vertical-align: top;\n",
       "    }\n",
       "\n",
       "    .dataframe thead th {\n",
       "        text-align: right;\n",
       "    }\n",
       "</style>\n",
       "<table border=\"1\" class=\"dataframe\">\n",
       "  <thead>\n",
       "    <tr style=\"text-align: right;\">\n",
       "      <th></th>\n",
       "      <th>Age</th>\n",
       "      <th>Driving_License</th>\n",
       "      <th>Region_Code</th>\n",
       "      <th>Previously_Insured</th>\n",
       "      <th>Vehicle_Age</th>\n",
       "      <th>Annual_Premium</th>\n",
       "      <th>Policy_Sales_Channel</th>\n",
       "      <th>Vintage</th>\n",
       "      <th>Response</th>\n",
       "      <th>Gender_Male</th>\n",
       "      <th>Vehicle_Damage_Yes</th>\n",
       "    </tr>\n",
       "  </thead>\n",
       "  <tbody>\n",
       "    <tr>\n",
       "      <th>273483</th>\n",
       "      <td>59</td>\n",
       "      <td>1</td>\n",
       "      <td>28.0</td>\n",
       "      <td>0</td>\n",
       "      <td>2</td>\n",
       "      <td>21261.0</td>\n",
       "      <td>26.0</td>\n",
       "      <td>144</td>\n",
       "      <td>0</td>\n",
       "      <td>1</td>\n",
       "      <td>1</td>\n",
       "    </tr>\n",
       "    <tr>\n",
       "      <th>371246</th>\n",
       "      <td>42</td>\n",
       "      <td>1</td>\n",
       "      <td>1.0</td>\n",
       "      <td>0</td>\n",
       "      <td>2</td>\n",
       "      <td>2630.0</td>\n",
       "      <td>124.0</td>\n",
       "      <td>211</td>\n",
       "      <td>0</td>\n",
       "      <td>0</td>\n",
       "      <td>1</td>\n",
       "    </tr>\n",
       "    <tr>\n",
       "      <th>90689</th>\n",
       "      <td>23</td>\n",
       "      <td>1</td>\n",
       "      <td>18.0</td>\n",
       "      <td>1</td>\n",
       "      <td>1</td>\n",
       "      <td>29869.0</td>\n",
       "      <td>152.0</td>\n",
       "      <td>80</td>\n",
       "      <td>0</td>\n",
       "      <td>1</td>\n",
       "      <td>0</td>\n",
       "    </tr>\n",
       "    <tr>\n",
       "      <th>94809</th>\n",
       "      <td>25</td>\n",
       "      <td>1</td>\n",
       "      <td>47.0</td>\n",
       "      <td>0</td>\n",
       "      <td>1</td>\n",
       "      <td>42822.0</td>\n",
       "      <td>152.0</td>\n",
       "      <td>199</td>\n",
       "      <td>0</td>\n",
       "      <td>0</td>\n",
       "      <td>1</td>\n",
       "    </tr>\n",
       "    <tr>\n",
       "      <th>50505</th>\n",
       "      <td>55</td>\n",
       "      <td>1</td>\n",
       "      <td>26.0</td>\n",
       "      <td>1</td>\n",
       "      <td>2</td>\n",
       "      <td>33225.0</td>\n",
       "      <td>22.0</td>\n",
       "      <td>230</td>\n",
       "      <td>0</td>\n",
       "      <td>1</td>\n",
       "      <td>0</td>\n",
       "    </tr>\n",
       "  </tbody>\n",
       "</table>\n",
       "</div>"
      ],
      "text/plain": [
       "        Age  Driving_License  Region_Code  Previously_Insured  Vehicle_Age  \\\n",
       "273483   59                1         28.0                   0            2   \n",
       "371246   42                1          1.0                   0            2   \n",
       "90689    23                1         18.0                   1            1   \n",
       "94809    25                1         47.0                   0            1   \n",
       "50505    55                1         26.0                   1            2   \n",
       "\n",
       "        Annual_Premium  Policy_Sales_Channel  Vintage  Response  Gender_Male  \\\n",
       "273483         21261.0                  26.0      144         0            1   \n",
       "371246          2630.0                 124.0      211         0            0   \n",
       "90689          29869.0                 152.0       80         0            1   \n",
       "94809          42822.0                 152.0      199         0            0   \n",
       "50505          33225.0                  22.0      230         0            1   \n",
       "\n",
       "        Vehicle_Damage_Yes  \n",
       "273483                   1  \n",
       "371246                   1  \n",
       "90689                    0  \n",
       "94809                    1  \n",
       "50505                    0  "
      ]
     },
     "execution_count": 41,
     "metadata": {},
     "output_type": "execute_result"
    }
   ],
   "source": [
    "train_data = train_data.drop(columns=['Gender','Vehicle_Damage'], axis=1)\n",
    "train_data.head()"
   ]
  },
  {
   "cell_type": "markdown",
   "metadata": {},
   "source": [
    "## Feature Encoding - Test Data"
   ]
  },
  {
   "cell_type": "code",
   "execution_count": 42,
   "metadata": {},
   "outputs": [
    {
     "data": {
      "text/html": [
       "<div>\n",
       "<style scoped>\n",
       "    .dataframe tbody tr th:only-of-type {\n",
       "        vertical-align: middle;\n",
       "    }\n",
       "\n",
       "    .dataframe tbody tr th {\n",
       "        vertical-align: top;\n",
       "    }\n",
       "\n",
       "    .dataframe thead th {\n",
       "        text-align: right;\n",
       "    }\n",
       "</style>\n",
       "<table border=\"1\" class=\"dataframe\">\n",
       "  <thead>\n",
       "    <tr style=\"text-align: right;\">\n",
       "      <th></th>\n",
       "      <th>Age</th>\n",
       "      <th>Driving_License</th>\n",
       "      <th>Region_Code</th>\n",
       "      <th>Previously_Insured</th>\n",
       "      <th>Vehicle_Age</th>\n",
       "      <th>Annual_Premium</th>\n",
       "      <th>Policy_Sales_Channel</th>\n",
       "      <th>Vintage</th>\n",
       "      <th>Response</th>\n",
       "      <th>Gender_Male</th>\n",
       "      <th>Vehicle_Damage_Yes</th>\n",
       "    </tr>\n",
       "  </thead>\n",
       "  <tbody>\n",
       "    <tr>\n",
       "      <th>200222</th>\n",
       "      <td>21</td>\n",
       "      <td>1</td>\n",
       "      <td>3.0</td>\n",
       "      <td>1</td>\n",
       "      <td>1</td>\n",
       "      <td>20408.0</td>\n",
       "      <td>160.0</td>\n",
       "      <td>72</td>\n",
       "      <td>0</td>\n",
       "      <td>0</td>\n",
       "      <td>0</td>\n",
       "    </tr>\n",
       "    <tr>\n",
       "      <th>49766</th>\n",
       "      <td>55</td>\n",
       "      <td>1</td>\n",
       "      <td>15.0</td>\n",
       "      <td>0</td>\n",
       "      <td>2</td>\n",
       "      <td>37498.0</td>\n",
       "      <td>26.0</td>\n",
       "      <td>102</td>\n",
       "      <td>0</td>\n",
       "      <td>1</td>\n",
       "      <td>1</td>\n",
       "    </tr>\n",
       "    <tr>\n",
       "      <th>172201</th>\n",
       "      <td>41</td>\n",
       "      <td>1</td>\n",
       "      <td>3.0</td>\n",
       "      <td>0</td>\n",
       "      <td>2</td>\n",
       "      <td>2630.0</td>\n",
       "      <td>26.0</td>\n",
       "      <td>90</td>\n",
       "      <td>0</td>\n",
       "      <td>0</td>\n",
       "      <td>1</td>\n",
       "    </tr>\n",
       "    <tr>\n",
       "      <th>160713</th>\n",
       "      <td>26</td>\n",
       "      <td>1</td>\n",
       "      <td>11.0</td>\n",
       "      <td>0</td>\n",
       "      <td>1</td>\n",
       "      <td>2630.0</td>\n",
       "      <td>151.0</td>\n",
       "      <td>268</td>\n",
       "      <td>0</td>\n",
       "      <td>0</td>\n",
       "      <td>0</td>\n",
       "    </tr>\n",
       "    <tr>\n",
       "      <th>53272</th>\n",
       "      <td>51</td>\n",
       "      <td>1</td>\n",
       "      <td>40.0</td>\n",
       "      <td>0</td>\n",
       "      <td>2</td>\n",
       "      <td>34006.0</td>\n",
       "      <td>124.0</td>\n",
       "      <td>265</td>\n",
       "      <td>0</td>\n",
       "      <td>1</td>\n",
       "      <td>1</td>\n",
       "    </tr>\n",
       "  </tbody>\n",
       "</table>\n",
       "</div>"
      ],
      "text/plain": [
       "        Age  Driving_License  Region_Code  Previously_Insured  Vehicle_Age  \\\n",
       "200222   21                1          3.0                   1            1   \n",
       "49766    55                1         15.0                   0            2   \n",
       "172201   41                1          3.0                   0            2   \n",
       "160713   26                1         11.0                   0            1   \n",
       "53272    51                1         40.0                   0            2   \n",
       "\n",
       "        Annual_Premium  Policy_Sales_Channel  Vintage  Response  Gender_Male  \\\n",
       "200222         20408.0                 160.0       72         0            0   \n",
       "49766          37498.0                  26.0      102         0            1   \n",
       "172201          2630.0                  26.0       90         0            0   \n",
       "160713          2630.0                 151.0      268         0            0   \n",
       "53272          34006.0                 124.0      265         0            1   \n",
       "\n",
       "        Vehicle_Damage_Yes  \n",
       "200222                   0  \n",
       "49766                    1  \n",
       "172201                   1  \n",
       "160713                   0  \n",
       "53272                    1  "
      ]
     },
     "execution_count": 42,
     "metadata": {},
     "output_type": "execute_result"
    }
   ],
   "source": [
    "test_data['Vehicle_Age'] = test_data['Vehicle_Age'].map(map_vehicle_age)\n",
    "for kolom in ['Gender','Vehicle_Damage']:\n",
    "    onehots = pd.get_dummies(test_data[kolom], prefix=kolom, drop_first=True)\n",
    "    test_data = test_data.join(onehots)\n",
    "test_data = test_data.drop(columns=['Gender','Vehicle_Damage'], axis=1)\n",
    "test_data.head()"
   ]
  },
  {
   "cell_type": "markdown",
   "metadata": {},
   "source": [
    "## Save clean data to csv file"
   ]
  },
  {
   "cell_type": "code",
   "execution_count": 43,
   "metadata": {},
   "outputs": [],
   "source": [
    "train_data.to_csv('train_data.csv')\n",
    "test_data.to_csv('test_data.csv')"
   ]
  },
  {
   "cell_type": "markdown",
   "metadata": {},
   "source": [
    "# Feature Selection"
   ]
  },
  {
   "cell_type": "markdown",
   "metadata": {},
   "source": [
    "### Correlation with Target Feature"
   ]
  },
  {
   "cell_type": "code",
   "execution_count": 44,
   "metadata": {},
   "outputs": [
    {
     "data": {
      "image/png": "[encoded data removed]",
      "text/plain": [
       "<Figure size 1080x720 with 2 Axes>"
      ]
     },
     "metadata": {
      "needs_background": "light"
     },
     "output_type": "display_data"
    }
   ],
   "source": [
    "plt.figure(figsize=(15, 10))\n",
    "sns.heatmap(train_data.corr(), cmap='Blues', annot=True, fmt='.2f')\n",
    "plt.show()"
   ]
  },
  {
   "cell_type": "markdown",
   "metadata": {},
   "source": [
    "Seperti yang kita lihat di atas, kolom `Vintage` tidak memiliki korelasi sama sekali dengan kolom target yaitu `Response` maupun dengan kolom lain, maka didrop saja."
   ]
  },
  {
   "cell_type": "code",
   "execution_count": 45,
   "metadata": {},
   "outputs": [
    {
     "data": {
      "text/html": [
       "<div>\n",
       "<style scoped>\n",
       "    .dataframe tbody tr th:only-of-type {\n",
       "        vertical-align: middle;\n",
       "    }\n",
       "\n",
       "    .dataframe tbody tr th {\n",
       "        vertical-align: top;\n",
       "    }\n",
       "\n",
       "    .dataframe thead th {\n",
       "        text-align: right;\n",
       "    }\n",
       "</style>\n",
       "<table border=\"1\" class=\"dataframe\">\n",
       "  <thead>\n",
       "    <tr style=\"text-align: right;\">\n",
       "      <th></th>\n",
       "      <th>Age</th>\n",
       "      <th>Driving_License</th>\n",
       "      <th>Region_Code</th>\n",
       "      <th>Previously_Insured</th>\n",
       "      <th>Vehicle_Age</th>\n",
       "      <th>Annual_Premium</th>\n",
       "      <th>Policy_Sales_Channel</th>\n",
       "      <th>Response</th>\n",
       "      <th>Gender_Male</th>\n",
       "      <th>Vehicle_Damage_Yes</th>\n",
       "    </tr>\n",
       "  </thead>\n",
       "  <tbody>\n",
       "    <tr>\n",
       "      <th>273483</th>\n",
       "      <td>59</td>\n",
       "      <td>1</td>\n",
       "      <td>28.0</td>\n",
       "      <td>0</td>\n",
       "      <td>2</td>\n",
       "      <td>21261.0</td>\n",
       "      <td>26.0</td>\n",
       "      <td>0</td>\n",
       "      <td>1</td>\n",
       "      <td>1</td>\n",
       "    </tr>\n",
       "    <tr>\n",
       "      <th>371246</th>\n",
       "      <td>42</td>\n",
       "      <td>1</td>\n",
       "      <td>1.0</td>\n",
       "      <td>0</td>\n",
       "      <td>2</td>\n",
       "      <td>2630.0</td>\n",
       "      <td>124.0</td>\n",
       "      <td>0</td>\n",
       "      <td>0</td>\n",
       "      <td>1</td>\n",
       "    </tr>\n",
       "    <tr>\n",
       "      <th>90689</th>\n",
       "      <td>23</td>\n",
       "      <td>1</td>\n",
       "      <td>18.0</td>\n",
       "      <td>1</td>\n",
       "      <td>1</td>\n",
       "      <td>29869.0</td>\n",
       "      <td>152.0</td>\n",
       "      <td>0</td>\n",
       "      <td>1</td>\n",
       "      <td>0</td>\n",
       "    </tr>\n",
       "    <tr>\n",
       "      <th>94809</th>\n",
       "      <td>25</td>\n",
       "      <td>1</td>\n",
       "      <td>47.0</td>\n",
       "      <td>0</td>\n",
       "      <td>1</td>\n",
       "      <td>42822.0</td>\n",
       "      <td>152.0</td>\n",
       "      <td>0</td>\n",
       "      <td>0</td>\n",
       "      <td>1</td>\n",
       "    </tr>\n",
       "    <tr>\n",
       "      <th>50505</th>\n",
       "      <td>55</td>\n",
       "      <td>1</td>\n",
       "      <td>26.0</td>\n",
       "      <td>1</td>\n",
       "      <td>2</td>\n",
       "      <td>33225.0</td>\n",
       "      <td>22.0</td>\n",
       "      <td>0</td>\n",
       "      <td>1</td>\n",
       "      <td>0</td>\n",
       "    </tr>\n",
       "  </tbody>\n",
       "</table>\n",
       "</div>"
      ],
      "text/plain": [
       "        Age  Driving_License  Region_Code  Previously_Insured  Vehicle_Age  \\\n",
       "273483   59                1         28.0                   0            2   \n",
       "371246   42                1          1.0                   0            2   \n",
       "90689    23                1         18.0                   1            1   \n",
       "94809    25                1         47.0                   0            1   \n",
       "50505    55                1         26.0                   1            2   \n",
       "\n",
       "        Annual_Premium  Policy_Sales_Channel  Response  Gender_Male  \\\n",
       "273483         21261.0                  26.0         0            1   \n",
       "371246          2630.0                 124.0         0            0   \n",
       "90689          29869.0                 152.0         0            1   \n",
       "94809          42822.0                 152.0         0            0   \n",
       "50505          33225.0                  22.0         0            1   \n",
       "\n",
       "        Vehicle_Damage_Yes  \n",
       "273483                   1  \n",
       "371246                   1  \n",
       "90689                    0  \n",
       "94809                    1  \n",
       "50505                    0  "
      ]
     },
     "execution_count": 45,
     "metadata": {},
     "output_type": "execute_result"
    }
   ],
   "source": [
    "train_data = train_data.drop('Vintage', axis=1)\n",
    "train_data.head()"
   ]
  },
  {
   "cell_type": "markdown",
   "metadata": {},
   "source": [
    "Lakukan hal yang sama pada Test data"
   ]
  },
  {
   "cell_type": "code",
   "execution_count": 46,
   "metadata": {},
   "outputs": [],
   "source": [
    "test_data = test_data.drop('Vintage', axis=1)"
   ]
  },
  {
   "cell_type": "markdown",
   "metadata": {},
   "source": [
    "### Feature selection using information gain"
   ]
  },
  {
   "cell_type": "code",
   "execution_count": 47,
   "metadata": {},
   "outputs": [],
   "source": [
    "X_train = train_data.drop('Response', axis=1)\n",
    "y_train = train_data['Response']\n",
    "X_test = test_data.drop('Response', axis=1)\n",
    "y_test = test_data['Response']"
   ]
  },
  {
   "cell_type": "code",
   "execution_count": 48,
   "metadata": {},
   "outputs": [
    {
     "data": {
      "text/plain": [
       "array([0.03140059, 0.06431882, 0.01392823, 0.0962936 , 0.05458444,\n",
       "       0.00318827, 0.05508532, 0.01859842, 0.09147612])"
      ]
     },
     "execution_count": 48,
     "metadata": {},
     "output_type": "execute_result"
    }
   ],
   "source": [
    "mutual_info = mutual_info_classif(X_train, y_train)\n",
    "mutual_info"
   ]
  },
  {
   "cell_type": "code",
   "execution_count": 49,
   "metadata": {},
   "outputs": [
    {
     "data": {
      "text/plain": [
       "Previously_Insured      0.096294\n",
       "Vehicle_Damage_Yes      0.091476\n",
       "Driving_License         0.064319\n",
       "Policy_Sales_Channel    0.055085\n",
       "Vehicle_Age             0.054584\n",
       "Age                     0.031401\n",
       "Gender_Male             0.018598\n",
       "Region_Code             0.013928\n",
       "Annual_Premium          0.003188\n",
       "dtype: float64"
      ]
     },
     "execution_count": 49,
     "metadata": {},
     "output_type": "execute_result"
    }
   ],
   "source": [
    "mutual_info = pd.Series(mutual_info)\n",
    "mutual_info.index = X_train.columns\n",
    "mutual_info.sort_values(ascending=False)"
   ]
  },
  {
   "cell_type": "code",
   "execution_count": 50,
   "metadata": {},
   "outputs": [
    {
     "data": {
      "text/plain": [
       "Index(['Driving_License', 'Previously_Insured', 'Vehicle_Age',\n",
       "       'Policy_Sales_Channel', 'Vehicle_Damage_Yes'],\n",
       "      dtype='object')"
      ]
     },
     "execution_count": 50,
     "metadata": {},
     "output_type": "execute_result"
    }
   ],
   "source": [
    "# Select top 5 feature for modeling\n",
    "select_five_feature = SelectKBest(mutual_info_classif, k=5)\n",
    "select_five_feature.fit(X_train, y_train)\n",
    "X_train.columns[select_five_feature.get_support()]"
   ]
  },
  {
   "cell_type": "code",
   "execution_count": 51,
   "metadata": {},
   "outputs": [],
   "source": [
    "feature_to_keep = list(X_train.columns[select_five_feature.get_support()])\n",
    "X_train = X_train[feature_to_keep]"
   ]
  },
  {
   "cell_type": "markdown",
   "metadata": {},
   "source": [
    "Lakukan hal yang sama pada Data Test"
   ]
  },
  {
   "cell_type": "code",
   "execution_count": 52,
   "metadata": {},
   "outputs": [],
   "source": [
    "X_test = X_test[feature_to_keep]"
   ]
  },
  {
   "cell_type": "code",
   "execution_count": 53,
   "metadata": {
    "scrolled": true
   },
   "outputs": [
    {
     "name": "stdout",
     "output_type": "stream",
     "text": [
      "(333500, 5) (333500,)\n",
      "(38111, 5) (38111,)\n"
     ]
    }
   ],
   "source": [
    "print(X_train.shape, y_train.shape)\n",
    "print(X_test.shape, y_test.shape)"
   ]
  },
  {
   "cell_type": "markdown",
   "metadata": {},
   "source": [
    "## Normalization - Train Data"
   ]
  },
  {
   "cell_type": "code",
   "execution_count": 55,
   "metadata": {},
   "outputs": [],
   "source": [
    "scaler = MinMaxScaler()\n",
    "X_train_scaled = scaler.fit_transform(X_train)"
   ]
  },
  {
   "cell_type": "markdown",
   "metadata": {},
   "source": [
    "## Normalization - Test Data"
   ]
  },
  {
   "cell_type": "code",
   "execution_count": 56,
   "metadata": {},
   "outputs": [],
   "source": [
    "X_test_scaled = scaler.transform(X_test)"
   ]
  },
  {
   "cell_type": "markdown",
   "metadata": {},
   "source": [
    "# Modeling"
   ]
  },
  {
   "cell_type": "markdown",
   "metadata": {},
   "source": [
    "## Logistic Regression"
   ]
  },
  {
   "cell_type": "markdown",
   "metadata": {},
   "source": [
    "### Create class that can fit the model with best threshold"
   ]
  },
  {
   "cell_type": "code",
   "execution_count": 57,
   "metadata": {},
   "outputs": [],
   "source": [
    "class LogisticRegressionWithThreshold(LogisticRegression):\n",
    "    def predict(self, X, threshold=None):\n",
    "        if threshold == None: # If no threshold passed in, simply call the base class predict, effectively threshold=0.5\n",
    "            return LogisticRegression.predict(self, X)\n",
    "        else:\n",
    "            y_scores = LogisticRegression.predict_proba(self, X)[:, 1]\n",
    "            y_pred_with_threshold = (y_scores >= threshold).astype(int)\n",
    "\n",
    "            return y_pred_with_threshold\n",
    "    \n",
    "    def threshold_from_optimal_tpr_minus_fpr(self, X, y):\n",
    "        y_scores = LogisticRegression.predict_proba(self, X)[:, 1]\n",
    "        fpr, tpr, thresholds = roc_curve(y, y_scores) \n",
    "\n",
    "        optimal_idx = np.argmax(tpr - fpr)\n",
    "\n",
    "        return thresholds[optimal_idx], tpr[optimal_idx] - fpr[optimal_idx], fpr, tpr"
   ]
  },
  {
   "cell_type": "markdown",
   "metadata": {},
   "source": [
    "### Fitting the model"
   ]
  },
  {
   "cell_type": "code",
   "execution_count": 58,
   "metadata": {},
   "outputs": [
    {
     "data": {
      "text/plain": [
       "(0.17293741893586015, 0.5808702978480929)"
      ]
     },
     "execution_count": 58,
     "metadata": {},
     "output_type": "execute_result"
    }
   ],
   "source": [
    "lr = LogisticRegressionWithThreshold()\n",
    "lr.fit(X_train_scaled, y_train)\n",
    "\n",
    "threshold, optimal_tpr_minus_fpr, fpr_lr, tpr_lr = lr.threshold_from_optimal_tpr_minus_fpr(X_train_scaled, y_train\n",
    "                                                                                )\n",
    "y_pred_lr = lr.predict(X_test_scaled, threshold)\n",
    "y_pred_train_lr = lr.predict(X_train_scaled, threshold)\n",
    "\n",
    "threshold, optimal_tpr_minus_fpr"
   ]
  },
  {
   "cell_type": "markdown",
   "metadata": {},
   "source": [
    "### Score for the model "
   ]
  },
  {
   "cell_type": "code",
   "execution_count": 61,
   "metadata": {},
   "outputs": [
    {
     "name": "stdout",
     "output_type": "stream",
     "text": [
      "Accuracy score on test data :  0.6611477001390674\n",
      "Accuracy score on train data :  0.6593853073463268\n",
      "Recall score on test data :  0.963621158268869\n",
      "Recall score on train data :  0.9635425665835657\n",
      "ROC-AUC score on test data :  0.7906799982414916\n",
      "ROC-AUC score on train data :  0.7904351489240464\n",
      "              precision    recall  f1-score   support\n",
      "\n",
      "           0       0.99      0.62      0.76     33328\n",
      "           1       0.27      0.96      0.42      4783\n",
      "\n",
      "    accuracy                           0.66     38111\n",
      "   macro avg       0.63      0.79      0.59     38111\n",
      "weighted avg       0.90      0.66      0.72     38111\n",
      "\n"
     ]
    }
   ],
   "source": [
    "print('Accuracy score on test data : ', accuracy_score(y_test, y_pred_lr))\n",
    "print('Accuracy score on train data : ', accuracy_score(y_train, y_pred_train_lr))\n",
    "print('Recall score on test data : ', recall_score(y_test, y_pred_lr))\n",
    "print('Recall score on train data : ', recall_score(y_train, y_pred_train_lr))\n",
    "print('ROC-AUC score on test data : ', roc_auc_score(y_test, y_pred_lr))\n",
    "print('ROC-AUC score on train data : ', roc_auc_score(y_train, y_pred_train_lr))\n",
    "print(classification_report(y_test, y_pred_lr))"
   ]
  },
  {
   "cell_type": "markdown",
   "metadata": {},
   "source": [
    "### ROC-AUC Curve"
   ]
  },
  {
   "cell_type": "code",
   "execution_count": 62,
   "metadata": {},
   "outputs": [
    {
     "data": {
      "image/png": "[encoded data removed]",
      "text/plain": [
       "<Figure size 720x504 with 1 Axes>"
      ]
     },
     "metadata": {
      "needs_background": "light"
     },
     "output_type": "display_data"
    }
   ],
   "source": [
    "nilai_auc_lr = auc(fpr_lr, tpr_lr)\n",
    "plt.figure(figsize=(10,7))\n",
    "plt.plot(fpr_lr, tpr_lr, 'b', label=f'AUC={nilai_auc_lr}')\n",
    "plt.plot([0,1], [0,1], 'r--', label='Logistic Classifier')\n",
    "\n",
    "plt.title('ROC: Receiver Operating Characteristic')\n",
    "plt.xlabel('Fallout or False Positive Rate')\n",
    "plt.ylabel('Recall or True Positive Rate')\n",
    "plt.legend()\n",
    "plt.show()"
   ]
  },
  {
   "cell_type": "markdown",
   "metadata": {},
   "source": [
    "# Random Forest Classifier"
   ]
  },
  {
   "cell_type": "markdown",
   "metadata": {},
   "source": [
    "### Create class that can fit the model with best threshold"
   ]
  },
  {
   "cell_type": "code",
   "execution_count": 63,
   "metadata": {},
   "outputs": [],
   "source": [
    "class RandomForestWithThreshold(RandomForestClassifier):\n",
    "    def predict(self, X, threshold=None):\n",
    "        if threshold == None: # If no threshold passed in, simply call the base class predict, effectively threshold=0.5\n",
    "            return RandomForestClassifier.predict(self, X)\n",
    "        else:\n",
    "            y_scores = RandomForestClassifier.predict_proba(self, X)[:, 1]\n",
    "            y_pred_with_threshold = (y_scores >= threshold).astype(int)\n",
    "\n",
    "            return y_pred_with_threshold\n",
    "    \n",
    "    def threshold_from_optimal_tpr_minus_fpr(self, X, y):\n",
    "        y_scores = RandomForestClassifier.predict_proba(self, X)[:, 1]\n",
    "        fpr, tpr, thresholds = roc_curve(y, y_scores) \n",
    "\n",
    "        optimal_idx = np.argmax(tpr - fpr)\n",
    "\n",
    "        return thresholds[optimal_idx], tpr[optimal_idx] - fpr[optimal_idx], fpr, tpr"
   ]
  },
  {
   "cell_type": "markdown",
   "metadata": {},
   "source": [
    "### Fitting the model"
   ]
  },
  {
   "cell_type": "code",
   "execution_count": 64,
   "metadata": {},
   "outputs": [
    {
     "data": {
      "text/plain": [
       "(0.12141708291708289, 0.5874093851569888)"
      ]
     },
     "execution_count": 64,
     "metadata": {},
     "output_type": "execute_result"
    }
   ],
   "source": [
    "rf = RandomForestWithThreshold()\n",
    "rf.fit(X_train_scaled, y_train)\n",
    "\n",
    "threshold, optimal_tpr_minus_fpr, fpr_rf, tpr_rf = rf.threshold_from_optimal_tpr_minus_fpr(X_train_scaled, y_train)\n",
    "y_pred_rf = rf.predict(X_test_scaled, threshold)\n",
    "y_pred_train_rf = rf.predict(X_train_scaled, threshold)\n",
    "\n",
    "threshold, optimal_tpr_minus_fpr"
   ]
  },
  {
   "cell_type": "markdown",
   "metadata": {},
   "source": [
    "### Score for the model"
   ]
  },
  {
   "cell_type": "code",
   "execution_count": 66,
   "metadata": {},
   "outputs": [
    {
     "name": "stdout",
     "output_type": "stream",
     "text": [
      "Accuracy score on test data :  0.6673663771614494\n",
      "Accuracy score on train data :  0.6660269865067466\n",
      "Recall score on test data :  0.9615304202383441\n",
      "Recall score on train data :  0.962357761706119\n",
      "ROC-AUC score on test data :  0.7933402221210922\n",
      "ROC-AUC score on train data :  0.7937046925784943\n",
      "              precision    recall  f1-score   support\n",
      "\n",
      "           0       0.99      0.63      0.77     33328\n",
      "           1       0.27      0.96      0.42      4783\n",
      "\n",
      "    accuracy                           0.67     38111\n",
      "   macro avg       0.63      0.79      0.59     38111\n",
      "weighted avg       0.90      0.67      0.72     38111\n",
      "\n"
     ]
    }
   ],
   "source": [
    "print('Accuracy score on test data : ', accuracy_score(y_test, y_pred_rf))\n",
    "print('Accuracy score on train data : ', accuracy_score(y_train, y_pred_train_rf))\n",
    "print('Recall score on test data : ', recall_score(y_test, y_pred_rf))\n",
    "print('Recall score on train data : ', recall_score(y_train, y_pred_train_rf))\n",
    "print('ROC-AUC score on test data : ', roc_auc_score(y_test, y_pred_rf))\n",
    "print('ROC-AUC score on train data : ', roc_auc_score(y_train, y_pred_train_rf))\n",
    "print(classification_report(y_test, y_pred_rf))"
   ]
  },
  {
   "cell_type": "markdown",
   "metadata": {},
   "source": [
    "### ROC-AUC Curve"
   ]
  },
  {
   "cell_type": "code",
   "execution_count": 67,
   "metadata": {},
   "outputs": [
    {
     "data": {
      "image/png": "[encoded data removed]",
      "text/plain": [
       "<Figure size 720x504 with 1 Axes>"
      ]
     },
     "metadata": {
      "needs_background": "light"
     },
     "output_type": "display_data"
    }
   ],
   "source": [
    "nilai_auc_rf = auc(fpr_rf, tpr_rf)\n",
    "plt.figure(figsize=(10,7))\n",
    "plt.plot(fpr_rf, tpr_rf, 'b', label=f'AUC={nilai_auc_rf}')\n",
    "plt.plot([0,1], [0,1], 'r--', label='RandomForest Classifier')\n",
    "\n",
    "plt.title('ROC: Receiver Operating Characteristic')\n",
    "plt.xlabel('Fallout or False Positive Rate')\n",
    "plt.ylabel('Recall or True Positive Rate')\n",
    "plt.legend()\n",
    "plt.show()"
   ]
  },
  {
   "cell_type": "markdown",
   "metadata": {},
   "source": [
    "# Decision Tree"
   ]
  },
  {
   "cell_type": "markdown",
   "metadata": {},
   "source": [
    "### Create class can fit model with threshold"
   ]
  },
  {
   "cell_type": "code",
   "execution_count": 68,
   "metadata": {},
   "outputs": [],
   "source": [
    "class DecisionTreeWithThreshold(DecisionTreeClassifier):\n",
    "    def predict(self, X, threshold=None):\n",
    "        if threshold == None: # If no threshold passed in, simply call the base class predict, effectively threshold=0.5\n",
    "            return DecisionTreeClassifier.predict(self, X)\n",
    "        else:\n",
    "            y_scores = DecisionTreeClassifier.predict_proba(self, X)[:, 1]\n",
    "            y_pred_with_threshold = (y_scores >= threshold).astype(int)\n",
    "\n",
    "            return y_pred_with_threshold\n",
    "    \n",
    "    def threshold_from_optimal_tpr_minus_fpr(self, X, y):\n",
    "        y_scores = DecisionTreeClassifier.predict_proba(self, X)[:, 1]\n",
    "        fpr, tpr, thresholds = roc_curve(y, y_scores) \n",
    "\n",
    "        optimal_idx = np.argmax(tpr - fpr)\n",
    "\n",
    "        return thresholds[optimal_idx], tpr[optimal_idx] - fpr[optimal_idx], fpr, tpr"
   ]
  },
  {
   "cell_type": "markdown",
   "metadata": {},
   "source": [
    "### Fitting model"
   ]
  },
  {
   "cell_type": "code",
   "execution_count": 69,
   "metadata": {},
   "outputs": [
    {
     "data": {
      "text/plain": [
       "(0.125, 0.5874511341955291)"
      ]
     },
     "execution_count": 69,
     "metadata": {},
     "output_type": "execute_result"
    }
   ],
   "source": [
    "dt = DecisionTreeWithThreshold()\n",
    "dt.fit(X_train_scaled, y_train)\n",
    "\n",
    "threshold, optimal_tpr_minus_fpr, fpr_dt, tpr_dt = dt.threshold_from_optimal_tpr_minus_fpr(X_train_scaled, y_train)\n",
    "y_pred_dt = dt.predict(X_test_scaled, threshold)\n",
    "y_pred_train_dt = dt.predict(X_train_scaled, threshold)\n",
    "\n",
    "threshold, optimal_tpr_minus_fpr"
   ]
  },
  {
   "cell_type": "markdown",
   "metadata": {},
   "source": [
    "### Score for the model"
   ]
  },
  {
   "cell_type": "code",
   "execution_count": 70,
   "metadata": {},
   "outputs": [
    {
     "name": "stdout",
     "output_type": "stream",
     "text": [
      "Accuracy score on test data :  0.667340138017895\n",
      "Accuracy score on train data :  0.6660449775112444\n",
      "Recall score on test data :  0.9615304202383441\n",
      "Recall score on train data :  0.9623824451410659\n",
      "ROC-AUC score on test data :  0.7933252197207084\n",
      "ROC-AUC score on train data :  0.7937255670977645\n",
      "              precision    recall  f1-score   support\n",
      "\n",
      "           0       0.99      0.63      0.77     33328\n",
      "           1       0.27      0.96      0.42      4783\n",
      "\n",
      "    accuracy                           0.67     38111\n",
      "   macro avg       0.63      0.79      0.59     38111\n",
      "weighted avg       0.90      0.67      0.72     38111\n",
      "\n"
     ]
    }
   ],
   "source": [
    "print('Accuracy score on test data : ', accuracy_score(y_test, y_pred_dt))\n",
    "print('Accuracy score on train data : ', accuracy_score(y_train, y_pred_train_dt))\n",
    "print('Recall score on test data : ', recall_score(y_test, y_pred_dt))\n",
    "print('Recall score on train data : ', recall_score(y_train, y_pred_train_dt))\n",
    "print('ROC-AUC score on test data : ', roc_auc_score(y_test, y_pred_dt))\n",
    "print('ROC-AUC score on train data : ', roc_auc_score(y_train, y_pred_train_dt))\n",
    "print(classification_report(y_test, y_pred_dt))"
   ]
  },
  {
   "cell_type": "markdown",
   "metadata": {},
   "source": [
    "### ROC-AUC Curve"
   ]
  },
  {
   "cell_type": "code",
   "execution_count": 71,
   "metadata": {},
   "outputs": [
    {
     "data": {
      "image/png": "[encoded data removed]",
      "text/plain": [
       "<Figure size 720x504 with 1 Axes>"
      ]
     },
     "metadata": {
      "needs_background": "light"
     },
     "output_type": "display_data"
    }
   ],
   "source": [
    "nilai_auc_dt = auc(fpr_dt, tpr_dt)\n",
    "plt.figure(figsize=(10,7))\n",
    "plt.plot(fpr_dt, tpr_dt, 'b', label=f'AUC={nilai_auc_dt}')\n",
    "plt.plot([0,1], [0,1], 'r--', label='DecisionTree Classifier')\n",
    "\n",
    "plt.title('ROC: Receiver Operating Characteristic')\n",
    "plt.xlabel('Fallout or False Positive Rate')\n",
    "plt.ylabel('Recall or True Positive Rate')\n",
    "plt.legend()\n",
    "plt.show()"
   ]
  },
  {
   "cell_type": "markdown",
   "metadata": {},
   "source": [
    "# Naive Bayes"
   ]
  },
  {
   "cell_type": "markdown",
   "metadata": {},
   "source": [
    "### Create class that can fit model with best threshold"
   ]
  },
  {
   "cell_type": "code",
   "execution_count": 72,
   "metadata": {},
   "outputs": [],
   "source": [
    "class NaiveBayesWithThreshold(GaussianNB):\n",
    "    def predict(self, X, threshold=None):\n",
    "        if threshold == None: # If no threshold passed in, simply call the base class predict, effectively threshold=0.5\n",
    "            return GaussianNB.predict(self, X)\n",
    "        else:\n",
    "            y_scores = GaussianNB.predict_proba(self, X)[:, 1]\n",
    "            y_pred_with_threshold = (y_scores >= threshold).astype(int)\n",
    "\n",
    "            return y_pred_with_threshold\n",
    "    \n",
    "    def threshold_from_optimal_tpr_minus_fpr(self, X, y):\n",
    "        y_scores = GaussianNB.predict_proba(self, X)[:, 1]\n",
    "        fpr, tpr, thresholds = roc_curve(y, y_scores) \n",
    "\n",
    "        optimal_idx = np.argmax(tpr - fpr)\n",
    "\n",
    "        return thresholds[optimal_idx], tpr[optimal_idx] - fpr[optimal_idx], fpr, tpr"
   ]
  },
  {
   "cell_type": "markdown",
   "metadata": {},
   "source": [
    "### Fitting the model"
   ]
  },
  {
   "cell_type": "code",
   "execution_count": 73,
   "metadata": {},
   "outputs": [
    {
     "data": {
      "text/plain": [
       "(0.8121587733149392, 0.5808702978480929)"
      ]
     },
     "execution_count": 73,
     "metadata": {},
     "output_type": "execute_result"
    }
   ],
   "source": [
    "nb = NaiveBayesWithThreshold()\n",
    "nb.fit(X_train_scaled, y_train)\n",
    "\n",
    "threshold, optimal_tpr_minus_fpr, fpr_nb, tpr_nb = nb.threshold_from_optimal_tpr_minus_fpr(X_train_scaled, y_train)\n",
    "y_pred_nb = nb.predict(X_test_scaled, threshold)\n",
    "y_pred_train_nb = nb.predict(X_train_scaled, threshold)\n",
    "\n",
    "threshold, optimal_tpr_minus_fpr"
   ]
  },
  {
   "cell_type": "markdown",
   "metadata": {},
   "source": [
    "### Score for the model"
   ]
  },
  {
   "cell_type": "code",
   "execution_count": 74,
   "metadata": {},
   "outputs": [
    {
     "name": "stdout",
     "output_type": "stream",
     "text": [
      "Accuracy score on test data :  0.6611477001390674\n",
      "Accuracy score on train data :  0.6593853073463268\n",
      "Recall score on test data :  0.963621158268869\n",
      "Recall score on train data :  0.9635425665835657\n",
      "ROC-AUC score on test data :  0.7906799982414916\n",
      "ROC-AUC score on train data :  0.7904351489240464\n",
      "              precision    recall  f1-score   support\n",
      "\n",
      "           0       0.99      0.62      0.76     33328\n",
      "           1       0.27      0.96      0.42      4783\n",
      "\n",
      "    accuracy                           0.66     38111\n",
      "   macro avg       0.63      0.79      0.59     38111\n",
      "weighted avg       0.90      0.66      0.72     38111\n",
      "\n"
     ]
    }
   ],
   "source": [
    "print('Accuracy score on test data : ', accuracy_score(y_test, y_pred_nb))\n",
    "print('Accuracy score on train data : ', accuracy_score(y_train, y_pred_train_nb))\n",
    "print('Recall score on test data : ', recall_score(y_test, y_pred_nb))\n",
    "print('Recall score on train data : ', recall_score(y_train, y_pred_train_nb))\n",
    "print('ROC-AUC score on test data : ', roc_auc_score(y_test, y_pred_nb))\n",
    "print('ROC-AUC score on train data : ', roc_auc_score(y_train, y_pred_train_nb))\n",
    "print(classification_report(y_test, y_pred_nb))"
   ]
  },
  {
   "cell_type": "markdown",
   "metadata": {},
   "source": [
    "### ROC-AUC Curve"
   ]
  },
  {
   "cell_type": "code",
   "execution_count": 75,
   "metadata": {},
   "outputs": [
    {
     "data": {
      "image/png": "[encoded data removed]",
      "text/plain": [
       "<Figure size 720x504 with 1 Axes>"
      ]
     },
     "metadata": {
      "needs_background": "light"
     },
     "output_type": "display_data"
    }
   ],
   "source": [
    "nilai_auc_nb = auc(fpr_nb, tpr_nb)\n",
    "plt.figure(figsize=(10,7))\n",
    "plt.plot(fpr_nb, tpr_nb, 'b', label=f'AUC={nilai_auc_nb}')\n",
    "plt.plot([0,1], [0,1], 'r--', label='NaiveBayes Classifier')\n",
    "\n",
    "plt.title('ROC: Receiver Operating Characteristic')\n",
    "plt.xlabel('Fallout or False Positive Rate')\n",
    "plt.ylabel('Recall or True Positive Rate')\n",
    "plt.legend()\n",
    "plt.show()"
   ]
  },
  {
   "cell_type": "markdown",
   "metadata": {},
   "source": [
    "# XGBoost"
   ]
  },
  {
   "cell_type": "markdown",
   "metadata": {},
   "source": [
    "### Create class that can fit model with best threshold"
   ]
  },
  {
   "cell_type": "code",
   "execution_count": 76,
   "metadata": {},
   "outputs": [],
   "source": [
    "class XGBoostWithThreshold(XGBClassifier):\n",
    "    def predict(self, X, threshold=None):\n",
    "        if threshold == None: # If no threshold passed in, simply call the base class predict, effectively threshold=0.5\n",
    "            return XGBClassifier.predict(self, X)\n",
    "        else:\n",
    "            y_scores = XGBClassifier.predict_proba(self, X)[:, 1]\n",
    "            y_pred_with_threshold = (y_scores >= threshold).astype(int)\n",
    "\n",
    "            return y_pred_with_threshold\n",
    "    \n",
    "    def threshold_from_optimal_tpr_minus_fpr(self, X, y):\n",
    "        y_scores = XGBClassifier.predict_proba(self, X)[:, 1]\n",
    "        fpr, tpr, thresholds = roc_curve(y, y_scores) \n",
    "\n",
    "        optimal_idx = np.argmax(tpr - fpr)\n",
    "\n",
    "        return thresholds[optimal_idx], tpr[optimal_idx] - fpr[optimal_idx], fpr, tpr"
   ]
  },
  {
   "cell_type": "markdown",
   "metadata": {},
   "source": [
    "### Fitting the model"
   ]
  },
  {
   "cell_type": "code",
   "execution_count": 77,
   "metadata": {},
   "outputs": [
    {
     "data": {
      "text/plain": [
       "(0.12686343, 0.5869449539781961)"
      ]
     },
     "execution_count": 77,
     "metadata": {},
     "output_type": "execute_result"
    }
   ],
   "source": [
    "xgb = XGBoostWithThreshold()\n",
    "xgb.fit(X_train_scaled, y_train)\n",
    "\n",
    "threshold, optimal_tpr_minus_fpr, fpr_xgb, tpr_xgb = xgb.threshold_from_optimal_tpr_minus_fpr(X_train_scaled, y_train)\n",
    "y_pred_xgb = xgb.predict(X_test_scaled, threshold)\n",
    "y_pred_train_xgb = xgb.predict(X_train_scaled, threshold)\n",
    "\n",
    "threshold, optimal_tpr_minus_fpr"
   ]
  },
  {
   "cell_type": "markdown",
   "metadata": {},
   "source": [
    "### Score for the model"
   ]
  },
  {
   "cell_type": "code",
   "execution_count": 78,
   "metadata": {},
   "outputs": [
    {
     "name": "stdout",
     "output_type": "stream",
     "text": [
      "Accuracy score on test data :  0.6669465508645798\n",
      "Accuracy score on train data :  0.6655442278860569\n",
      "Recall score on test data :  0.9625757892536065\n",
      "Recall score on train data :  0.9624564954459063\n",
      "ROC-AUC score on test data :  0.7935478562206584\n",
      "ROC-AUC score on train data :  0.7934724769890981\n",
      "              precision    recall  f1-score   support\n",
      "\n",
      "           0       0.99      0.62      0.77     33328\n",
      "           1       0.27      0.96      0.42      4783\n",
      "\n",
      "    accuracy                           0.67     38111\n",
      "   macro avg       0.63      0.79      0.59     38111\n",
      "weighted avg       0.90      0.67      0.72     38111\n",
      "\n"
     ]
    }
   ],
   "source": [
    "print('Accuracy score on test data : ', accuracy_score(y_test, y_pred_xgb))\n",
    "print('Accuracy score on train data : ', accuracy_score(y_train, y_pred_train_xgb))\n",
    "print('Recall score on test data : ', recall_score(y_test, y_pred_xgb))\n",
    "print('Recall score on train data : ', recall_score(y_train, y_pred_train_xgb))\n",
    "print('ROC-AUC score on test data : ', roc_auc_score(y_test, y_pred_xgb))\n",
    "print('ROC-AUC score on train data : ', roc_auc_score(y_train, y_pred_train_xgb))\n",
    "print(classification_report(y_test, y_pred_xgb))"
   ]
  },
  {
   "cell_type": "markdown",
   "metadata": {},
   "source": [
    "### ROC-AUC Curve"
   ]
  },
  {
   "cell_type": "code",
   "execution_count": 79,
   "metadata": {},
   "outputs": [
    {
     "data": {
      "image/png": "[encoded data removed]",
      "text/plain": [
       "<Figure size 720x504 with 1 Axes>"
      ]
     },
     "metadata": {
      "needs_background": "light"
     },
     "output_type": "display_data"
    }
   ],
   "source": [
    "nilai_auc_xgb = auc(fpr_xgb, tpr_xgb)\n",
    "plt.figure(figsize=(10,7))\n",
    "plt.plot(fpr_xgb, tpr_xgb, 'b', label=f'AUC={nilai_auc_xgb}')\n",
    "plt.plot([0,1], [0,1], 'r--', label='XGBoost Classifier')\n",
    "\n",
    "plt.title('ROC: Receiver Operating Characteristic')\n",
    "plt.xlabel('Fallout or False Positive Rate')\n",
    "plt.ylabel('Recall or True Positive Rate')\n",
    "plt.legend()\n",
    "plt.show()"
   ]
  }
 ],
 "metadata": {
  "colab": {
   "collapsed_sections": [],
   "name": "Hands-On Exploratory Data Analysis.ipynb",
   "provenance": []
  },
  "kernelspec": {
   "display_name": "Python 3 (ipykernel)",
   "language": "python",
   "name": "python3"
  },
  "language_info": {
   "codemirror_mode": {
    "name": "ipython",
    "version": 3
   },
   "file_extension": ".py",
   "mimetype": "text/x-python",
   "name": "python",
   "nbconvert_exporter": "python",
   "pygments_lexer": "ipython3",
   "version": "3.10.2"
  }
 },
 "nbformat": 4,
 "nbformat_minor": 4
}
